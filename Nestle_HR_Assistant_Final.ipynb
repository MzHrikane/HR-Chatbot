{
 "cells": [
  {
   "cell_type": "markdown",
   "metadata": {},
   "source": [
    "# 🤖 AI-Powered HR Assistant for Nestlé\n",
    "This project builds a chatbot that can answer questions about Nestlé's HR policy using OpenAI's GPT-3.5 Turbo, LangChain, ChromaDB, and Gradio."
   ]
  },
  {
   "cell_type": "code",
   "execution_count": 5,
   "metadata": {
    "collapsed": true,
    "jupyter": {
     "outputs_hidden": true
    },
    "tags": []
   },
   "outputs": [
    {
     "name": "stdout",
     "output_type": "stream",
     "text": [
      "Defaulting to user installation because normal site-packages is not writeable\n",
      "Requirement already satisfied: openai in /usr/local/lib/python3.10/site-packages (0.28.1)\n",
      "Requirement already satisfied: langchain in ./.local/lib/python3.10/site-packages (0.3.26)\n",
      "Requirement already satisfied: chromadb in /usr/local/lib/python3.10/site-packages (0.4.18)\n",
      "Requirement already satisfied: gradio in /usr/local/lib/python3.10/site-packages (4.7.1)\n",
      "Requirement already satisfied: pypdf in /usr/local/lib/python3.10/site-packages (3.17.1)\n",
      "Requirement already satisfied: tiktoken in /usr/local/lib/python3.10/site-packages (0.5.1)\n",
      "Requirement already satisfied: requests>=2.20 in /usr/local/lib/python3.10/site-packages (from openai) (2.31.0)\n",
      "Requirement already satisfied: tqdm in /usr/local/lib/python3.10/site-packages (from openai) (4.66.1)\n",
      "Requirement already satisfied: aiohttp in /usr/local/lib/python3.10/site-packages (from openai) (3.9.1)\n",
      "Requirement already satisfied: langchain-core<1.0.0,>=0.3.66 in ./.local/lib/python3.10/site-packages (from langchain) (0.3.66)\n",
      "Requirement already satisfied: langchain-text-splitters<1.0.0,>=0.3.8 in ./.local/lib/python3.10/site-packages (from langchain) (0.3.8)\n",
      "Requirement already satisfied: langsmith>=0.1.17 in ./.local/lib/python3.10/site-packages (from langchain) (0.4.2)\n",
      "Requirement already satisfied: pydantic<3.0.0,>=2.7.4 in ./.local/lib/python3.10/site-packages (from langchain) (2.11.7)\n",
      "Requirement already satisfied: SQLAlchemy<3,>=1.4 in /usr/local/lib/python3.10/site-packages (from langchain) (1.4.20)\n",
      "Requirement already satisfied: PyYAML>=5.3 in /usr/local/lib/python3.10/site-packages (from langchain) (6.0.1)\n",
      "Requirement already satisfied: async-timeout<5.0.0,>=4.0.0 in /usr/local/lib/python3.10/site-packages (from langchain) (4.0.3)\n",
      "Requirement already satisfied: chroma-hnswlib==0.7.3 in /usr/local/lib/python3.10/site-packages (from chromadb) (0.7.3)\n",
      "Requirement already satisfied: fastapi>=0.95.2 in /usr/local/lib/python3.10/site-packages (from chromadb) (0.104.1)\n",
      "Requirement already satisfied: uvicorn>=0.18.3 in /usr/local/lib/python3.10/site-packages (from uvicorn[standard]>=0.18.3->chromadb) (0.24.0.post1)\n",
      "Requirement already satisfied: posthog>=2.4.0 in /usr/local/lib/python3.10/site-packages (from chromadb) (3.0.2)\n",
      "Requirement already satisfied: typing-extensions>=4.5.0 in ./.local/lib/python3.10/site-packages (from chromadb) (4.14.0)\n",
      "Requirement already satisfied: pulsar-client>=3.1.0 in /usr/local/lib/python3.10/site-packages (from chromadb) (3.3.0)\n",
      "Requirement already satisfied: onnxruntime>=1.14.1 in /usr/local/lib/python3.10/site-packages (from chromadb) (1.16.3)\n",
      "Requirement already satisfied: opentelemetry-api>=1.2.0 in /usr/local/lib/python3.10/site-packages (from chromadb) (1.21.0)\n",
      "Requirement already satisfied: opentelemetry-exporter-otlp-proto-grpc>=1.2.0 in /usr/local/lib/python3.10/site-packages (from chromadb) (1.21.0)\n",
      "Requirement already satisfied: opentelemetry-instrumentation-fastapi>=0.41b0 in /usr/local/lib/python3.10/site-packages (from chromadb) (0.42b0)\n",
      "Requirement already satisfied: opentelemetry-sdk>=1.2.0 in /usr/local/lib/python3.10/site-packages (from chromadb) (1.21.0)\n",
      "Requirement already satisfied: tokenizers>=0.13.2 in /usr/local/lib/python3.10/site-packages (from chromadb) (0.15.0)\n",
      "Requirement already satisfied: pypika>=0.48.9 in /usr/local/lib/python3.10/site-packages (from chromadb) (0.48.9)\n",
      "Requirement already satisfied: overrides>=7.3.1 in /usr/local/lib/python3.10/site-packages (from chromadb) (7.3.1)\n",
      "Requirement already satisfied: importlib-resources in /usr/local/lib/python3.10/site-packages (from chromadb) (6.1.1)\n",
      "Requirement already satisfied: grpcio>=1.58.0 in /usr/local/lib/python3.10/site-packages (from chromadb) (1.59.3)\n",
      "Requirement already satisfied: bcrypt>=4.0.1 in /usr/local/lib/python3.10/site-packages (from chromadb) (4.1.1)\n",
      "Requirement already satisfied: typer>=0.9.0 in /usr/local/lib/python3.10/site-packages (from chromadb) (0.9.0)\n",
      "Requirement already satisfied: kubernetes>=28.1.0 in /usr/local/lib/python3.10/site-packages (from chromadb) (28.1.0)\n",
      "Requirement already satisfied: tenacity>=8.2.3 in /usr/local/lib/python3.10/site-packages (from chromadb) (8.2.3)\n",
      "Requirement already satisfied: mmh3>=4.0.1 in /usr/local/lib/python3.10/site-packages (from chromadb) (4.0.1)\n",
      "Requirement already satisfied: numpy>=1.22.5 in /usr/local/lib/python3.10/site-packages (from chromadb) (1.26.2)\n",
      "Requirement already satisfied: aiofiles<24.0,>=22.0 in /usr/local/lib/python3.10/site-packages (from gradio) (23.2.1)\n",
      "Requirement already satisfied: altair<6.0,>=4.2.0 in /usr/local/lib/python3.10/site-packages (from gradio) (5.2.0)\n",
      "Requirement already satisfied: ffmpy in /usr/local/lib/python3.10/site-packages (from gradio) (0.3.1)\n",
      "Requirement already satisfied: gradio-client==0.7.0 in /usr/local/lib/python3.10/site-packages (from gradio) (0.7.0)\n",
      "Requirement already satisfied: httpx in /usr/local/lib/python3.10/site-packages (from gradio) (0.25.2)\n",
      "Requirement already satisfied: huggingface-hub>=0.14.0 in /usr/local/lib/python3.10/site-packages (from gradio) (0.19.4)\n",
      "Requirement already satisfied: jinja2<4.0 in /usr/local/lib/python3.10/site-packages (from gradio) (3.1.2)\n",
      "Requirement already satisfied: markupsafe~=2.0 in /usr/local/lib/python3.10/site-packages (from gradio) (2.1.3)\n",
      "Requirement already satisfied: matplotlib~=3.0 in /usr/local/lib/python3.10/site-packages (from gradio) (3.8.2)\n",
      "Requirement already satisfied: orjson~=3.0 in ./.local/lib/python3.10/site-packages (from gradio) (3.10.18)\n",
      "Requirement already satisfied: packaging in /usr/local/lib/python3.10/site-packages (from gradio) (23.2)\n",
      "Requirement already satisfied: pandas<3.0,>=1.0 in /usr/local/lib/python3.10/site-packages (from gradio) (2.1.3)\n",
      "Requirement already satisfied: pillow<11.0,>=8.0 in /usr/local/lib/python3.10/site-packages (from gradio) (10.1.0)\n",
      "Requirement already satisfied: pydub in /usr/local/lib/python3.10/site-packages (from gradio) (0.25.1)\n",
      "Requirement already satisfied: python-multipart in /usr/local/lib/python3.10/site-packages (from gradio) (0.0.6)\n",
      "Requirement already satisfied: semantic-version~=2.0 in /usr/local/lib/python3.10/site-packages (from gradio) (2.10.0)\n",
      "Requirement already satisfied: tomlkit==0.12.0 in /usr/local/lib/python3.10/site-packages (from gradio) (0.12.0)\n",
      "Requirement already satisfied: fsspec in /usr/local/lib/python3.10/site-packages (from gradio-client==0.7.0->gradio) (2023.10.0)\n",
      "Requirement already satisfied: websockets<12.0,>=10.0 in /usr/local/lib/python3.10/site-packages (from gradio-client==0.7.0->gradio) (11.0.3)\n",
      "Requirement already satisfied: regex>=2022.1.18 in /usr/local/lib/python3.10/site-packages (from tiktoken) (2023.10.3)\n",
      "Requirement already satisfied: jsonschema>=3.0 in /usr/local/lib/python3.10/site-packages (from altair<6.0,>=4.2.0->gradio) (4.20.0)\n",
      "Requirement already satisfied: toolz in /usr/local/lib/python3.10/site-packages (from altair<6.0,>=4.2.0->gradio) (0.12.0)\n",
      "Requirement already satisfied: anyio<4.0.0,>=3.7.1 in /usr/local/lib/python3.10/site-packages (from fastapi>=0.95.2->chromadb) (3.7.1)\n",
      "Requirement already satisfied: starlette<0.28.0,>=0.27.0 in /usr/local/lib/python3.10/site-packages (from fastapi>=0.95.2->chromadb) (0.27.0)\n",
      "Requirement already satisfied: filelock in /usr/local/lib/python3.10/site-packages (from huggingface-hub>=0.14.0->gradio) (3.13.1)\n",
      "Requirement already satisfied: certifi>=14.05.14 in /usr/local/lib/python3.10/site-packages (from kubernetes>=28.1.0->chromadb) (2023.11.17)\n",
      "Requirement already satisfied: six>=1.9.0 in /usr/local/lib/python3.10/site-packages (from kubernetes>=28.1.0->chromadb) (1.16.0)\n",
      "Requirement already satisfied: python-dateutil>=2.5.3 in /usr/local/lib/python3.10/site-packages (from kubernetes>=28.1.0->chromadb) (2.8.2)\n",
      "Requirement already satisfied: google-auth>=1.0.1 in /usr/local/lib/python3.10/site-packages (from kubernetes>=28.1.0->chromadb) (2.23.4)\n",
      "Requirement already satisfied: websocket-client!=0.40.0,!=0.41.*,!=0.42.*,>=0.32.0 in /usr/local/lib/python3.10/site-packages (from kubernetes>=28.1.0->chromadb) (1.3.3)\n",
      "Requirement already satisfied: requests-oauthlib in /usr/local/lib/python3.10/site-packages (from kubernetes>=28.1.0->chromadb) (1.3.1)\n",
      "Requirement already satisfied: oauthlib>=3.2.2 in /usr/local/lib/python3.10/site-packages (from kubernetes>=28.1.0->chromadb) (3.2.2)\n",
      "Requirement already satisfied: urllib3<2.0,>=1.24.2 in /usr/local/lib/python3.10/site-packages (from kubernetes>=28.1.0->chromadb) (1.26.18)\n",
      "Requirement already satisfied: jsonpatch<2.0,>=1.33 in /usr/local/lib/python3.10/site-packages (from langchain-core<1.0.0,>=0.3.66->langchain) (1.33)\n",
      "Requirement already satisfied: requests-toolbelt<2.0.0,>=1.0.0 in ./.local/lib/python3.10/site-packages (from langsmith>=0.1.17->langchain) (1.0.0)\n",
      "Requirement already satisfied: zstandard<0.24.0,>=0.23.0 in ./.local/lib/python3.10/site-packages (from langsmith>=0.1.17->langchain) (0.23.0)\n",
      "Requirement already satisfied: httpcore==1.* in /usr/local/lib/python3.10/site-packages (from httpx->gradio) (1.0.2)\n",
      "Requirement already satisfied: idna in /usr/local/lib/python3.10/site-packages (from httpx->gradio) (3.6)\n",
      "Requirement already satisfied: sniffio in /usr/local/lib/python3.10/site-packages (from httpx->gradio) (1.3.0)\n",
      "Requirement already satisfied: h11<0.15,>=0.13 in /usr/local/lib/python3.10/site-packages (from httpcore==1.*->httpx->gradio) (0.14.0)\n",
      "Requirement already satisfied: contourpy>=1.0.1 in /usr/local/lib/python3.10/site-packages (from matplotlib~=3.0->gradio) (1.2.0)\n",
      "Requirement already satisfied: cycler>=0.10 in /usr/local/lib/python3.10/site-packages (from matplotlib~=3.0->gradio) (0.12.1)\n",
      "Requirement already satisfied: fonttools>=4.22.0 in /usr/local/lib/python3.10/site-packages (from matplotlib~=3.0->gradio) (4.45.1)\n",
      "Requirement already satisfied: kiwisolver>=1.3.1 in /usr/local/lib/python3.10/site-packages (from matplotlib~=3.0->gradio) (1.4.5)\n",
      "Requirement already satisfied: pyparsing>=2.3.1 in /usr/local/lib/python3.10/site-packages (from matplotlib~=3.0->gradio) (3.1.1)\n",
      "Requirement already satisfied: coloredlogs in /usr/local/lib/python3.10/site-packages (from onnxruntime>=1.14.1->chromadb) (15.0.1)\n",
      "Requirement already satisfied: flatbuffers in /usr/local/lib/python3.10/site-packages (from onnxruntime>=1.14.1->chromadb) (23.5.26)\n",
      "Requirement already satisfied: protobuf in /usr/local/lib/python3.10/site-packages (from onnxruntime>=1.14.1->chromadb) (4.25.1)\n",
      "Requirement already satisfied: sympy in /usr/local/lib/python3.10/site-packages (from onnxruntime>=1.14.1->chromadb) (1.12)\n",
      "Requirement already satisfied: deprecated>=1.2.6 in /usr/local/lib/python3.10/site-packages (from opentelemetry-api>=1.2.0->chromadb) (1.2.13)\n",
      "Requirement already satisfied: importlib-metadata<7.0,>=6.0 in /usr/local/lib/python3.10/site-packages (from opentelemetry-api>=1.2.0->chromadb) (6.8.0)\n",
      "Requirement already satisfied: backoff<3.0.0,>=1.10.0 in /usr/local/lib/python3.10/site-packages (from opentelemetry-exporter-otlp-proto-grpc>=1.2.0->chromadb) (2.2.1)\n",
      "Requirement already satisfied: googleapis-common-protos~=1.52 in /usr/local/lib/python3.10/site-packages (from opentelemetry-exporter-otlp-proto-grpc>=1.2.0->chromadb) (1.61.0)\n",
      "Requirement already satisfied: opentelemetry-exporter-otlp-proto-common==1.21.0 in /usr/local/lib/python3.10/site-packages (from opentelemetry-exporter-otlp-proto-grpc>=1.2.0->chromadb) (1.21.0)\n",
      "Requirement already satisfied: opentelemetry-proto==1.21.0 in /usr/local/lib/python3.10/site-packages (from opentelemetry-exporter-otlp-proto-grpc>=1.2.0->chromadb) (1.21.0)\n",
      "Requirement already satisfied: opentelemetry-instrumentation-asgi==0.42b0 in /usr/local/lib/python3.10/site-packages (from opentelemetry-instrumentation-fastapi>=0.41b0->chromadb) (0.42b0)\n",
      "Requirement already satisfied: opentelemetry-instrumentation==0.42b0 in /usr/local/lib/python3.10/site-packages (from opentelemetry-instrumentation-fastapi>=0.41b0->chromadb) (0.42b0)\n",
      "Requirement already satisfied: opentelemetry-semantic-conventions==0.42b0 in /usr/local/lib/python3.10/site-packages (from opentelemetry-instrumentation-fastapi>=0.41b0->chromadb) (0.42b0)\n",
      "Requirement already satisfied: opentelemetry-util-http==0.42b0 in /usr/local/lib/python3.10/site-packages (from opentelemetry-instrumentation-fastapi>=0.41b0->chromadb) (0.42b0)\n",
      "Requirement already satisfied: setuptools>=16.0 in /usr/local/lib/python3.10/site-packages (from opentelemetry-instrumentation==0.42b0->opentelemetry-instrumentation-fastapi>=0.41b0->chromadb) (69.0.2)\n",
      "Requirement already satisfied: wrapt<2.0.0,>=1.0.0 in /usr/local/lib/python3.10/site-packages (from opentelemetry-instrumentation==0.42b0->opentelemetry-instrumentation-fastapi>=0.41b0->chromadb) (1.14.1)\n",
      "Requirement already satisfied: asgiref~=3.0 in /usr/local/lib/python3.10/site-packages (from opentelemetry-instrumentation-asgi==0.42b0->opentelemetry-instrumentation-fastapi>=0.41b0->chromadb) (3.7.2)\n",
      "Requirement already satisfied: pytz>=2020.1 in /usr/local/lib/python3.10/site-packages (from pandas<3.0,>=1.0->gradio) (2023.3.post1)\n",
      "Requirement already satisfied: tzdata>=2022.1 in /usr/local/lib/python3.10/site-packages (from pandas<3.0,>=1.0->gradio) (2023.3)\n",
      "Requirement already satisfied: monotonic>=1.5 in /usr/local/lib/python3.10/site-packages (from posthog>=2.4.0->chromadb) (1.6)\n",
      "Requirement already satisfied: annotated-types>=0.6.0 in /usr/local/lib/python3.10/site-packages (from pydantic<3.0.0,>=2.7.4->langchain) (0.6.0)\n",
      "Requirement already satisfied: pydantic-core==2.33.2 in ./.local/lib/python3.10/site-packages (from pydantic<3.0.0,>=2.7.4->langchain) (2.33.2)\n",
      "Requirement already satisfied: typing-inspection>=0.4.0 in ./.local/lib/python3.10/site-packages (from pydantic<3.0.0,>=2.7.4->langchain) (0.4.1)\n",
      "Requirement already satisfied: charset-normalizer<4,>=2 in /usr/local/lib/python3.10/site-packages (from requests>=2.20->openai) (3.3.2)\n",
      "Requirement already satisfied: greenlet!=0.4.17 in /usr/local/lib/python3.10/site-packages (from SQLAlchemy<3,>=1.4->langchain) (1.1.2)\n",
      "Requirement already satisfied: click<9.0.0,>=7.1.1 in /usr/local/lib/python3.10/site-packages (from typer>=0.9.0->chromadb) (8.1.7)\n",
      "Requirement already satisfied: colorama<0.5.0,>=0.4.3 in /usr/local/lib/python3.10/site-packages (from typer[all]<1.0,>=0.9->gradio) (0.4.5)\n",
      "Requirement already satisfied: shellingham<2.0.0,>=1.3.0 in /usr/local/lib/python3.10/site-packages (from typer[all]<1.0,>=0.9->gradio) (1.5.4)\n",
      "Requirement already satisfied: rich<14.0.0,>=10.11.0 in /usr/local/lib/python3.10/site-packages (from typer[all]<1.0,>=0.9->gradio) (13.5.3)\n",
      "Requirement already satisfied: httptools>=0.5.0 in /usr/local/lib/python3.10/site-packages (from uvicorn[standard]>=0.18.3->chromadb) (0.6.1)\n",
      "Requirement already satisfied: python-dotenv>=0.13 in /usr/local/lib/python3.10/site-packages (from uvicorn[standard]>=0.18.3->chromadb) (1.0.0)\n",
      "Requirement already satisfied: uvloop!=0.15.0,!=0.15.1,>=0.14.0 in /usr/local/lib/python3.10/site-packages (from uvicorn[standard]>=0.18.3->chromadb) (0.19.0)\n",
      "Requirement already satisfied: watchfiles>=0.13 in /usr/local/lib/python3.10/site-packages (from uvicorn[standard]>=0.18.3->chromadb) (0.21.0)\n",
      "Requirement already satisfied: attrs>=17.3.0 in /usr/local/lib/python3.10/site-packages (from aiohttp->openai) (23.1.0)\n",
      "Requirement already satisfied: multidict<7.0,>=4.5 in /usr/local/lib/python3.10/site-packages (from aiohttp->openai) (6.0.4)\n",
      "Requirement already satisfied: yarl<2.0,>=1.0 in /usr/local/lib/python3.10/site-packages (from aiohttp->openai) (1.9.3)\n",
      "Requirement already satisfied: frozenlist>=1.1.1 in /usr/local/lib/python3.10/site-packages (from aiohttp->openai) (1.4.0)\n",
      "Requirement already satisfied: aiosignal>=1.1.2 in /usr/local/lib/python3.10/site-packages (from aiohttp->openai) (1.3.1)\n",
      "Requirement already satisfied: exceptiongroup in /usr/local/lib/python3.10/site-packages (from anyio<4.0.0,>=3.7.1->fastapi>=0.95.2->chromadb) (1.2.0)\n",
      "Requirement already satisfied: cachetools<6.0,>=2.0.0 in /usr/local/lib/python3.10/site-packages (from google-auth>=1.0.1->kubernetes>=28.1.0->chromadb) (5.3.2)\n",
      "Requirement already satisfied: pyasn1-modules>=0.2.1 in /usr/local/lib/python3.10/site-packages (from google-auth>=1.0.1->kubernetes>=28.1.0->chromadb) (0.3.0)\n",
      "Requirement already satisfied: rsa<5,>=3.1.4 in /usr/local/lib/python3.10/site-packages (from google-auth>=1.0.1->kubernetes>=28.1.0->chromadb) (4.9)\n",
      "Requirement already satisfied: zipp>=0.5 in /usr/local/lib/python3.10/site-packages (from importlib-metadata<7.0,>=6.0->opentelemetry-api>=1.2.0->chromadb) (3.17.0)\n",
      "Requirement already satisfied: jsonpointer>=1.9 in /usr/local/lib/python3.10/site-packages (from jsonpatch<2.0,>=1.33->langchain-core<1.0.0,>=0.3.66->langchain) (2.3)\n",
      "Requirement already satisfied: jsonschema-specifications>=2023.03.6 in /usr/local/lib/python3.10/site-packages (from jsonschema>=3.0->altair<6.0,>=4.2.0->gradio) (2023.11.1)\n",
      "Requirement already satisfied: referencing>=0.28.4 in /usr/local/lib/python3.10/site-packages (from jsonschema>=3.0->altair<6.0,>=4.2.0->gradio) (0.31.1)\n",
      "Requirement already satisfied: rpds-py>=0.7.1 in /usr/local/lib/python3.10/site-packages (from jsonschema>=3.0->altair<6.0,>=4.2.0->gradio) (0.13.2)\n",
      "Requirement already satisfied: markdown-it-py>=2.2.0 in /usr/local/lib/python3.10/site-packages (from rich<14.0.0,>=10.11.0->typer[all]<1.0,>=0.9->gradio) (3.0.0)\n",
      "Requirement already satisfied: pygments<3.0.0,>=2.13.0 in /usr/local/lib/python3.10/site-packages (from rich<14.0.0,>=10.11.0->typer[all]<1.0,>=0.9->gradio) (2.16.1)\n",
      "Requirement already satisfied: humanfriendly>=9.1 in /usr/local/lib/python3.10/site-packages (from coloredlogs->onnxruntime>=1.14.1->chromadb) (10.0)\n",
      "Requirement already satisfied: mpmath>=0.19 in /usr/local/lib/python3.10/site-packages (from sympy->onnxruntime>=1.14.1->chromadb) (1.3.0)\n",
      "Requirement already satisfied: mdurl~=0.1 in /usr/local/lib/python3.10/site-packages (from markdown-it-py>=2.2.0->rich<14.0.0,>=10.11.0->typer[all]<1.0,>=0.9->gradio) (0.1.1)\n",
      "Requirement already satisfied: pyasn1<0.6.0,>=0.4.6 in /usr/local/lib/python3.10/site-packages (from pyasn1-modules>=0.2.1->google-auth>=1.0.1->kubernetes>=28.1.0->chromadb) (0.5.1)\n"
     ]
    }
   ],
   "source": [
    "# ✅ Step 1: Install Required Libraries\n",
    "!pip install openai langchain chromadb gradio pypdf tiktoken"
   ]
  },
  {
   "cell_type": "code",
   "execution_count": 7,
   "metadata": {},
   "outputs": [
    {
     "name": "stdout",
     "output_type": "stream",
     "text": [
      "0.28.1\n"
     ]
    }
   ],
   "source": [
    "import openai\n",
    "print(openai.__version__)"
   ]
  },
  {
   "cell_type": "code",
   "execution_count": 6,
   "metadata": {},
   "outputs": [
    {
     "name": "stdout",
     "output_type": "stream",
     "text": [
      "voc-6977049751122724181614685d092355e3c9.03283979\n"
     ]
    }
   ],
   "source": [
    "import os\n",
    "key = print(os.environ.get(\"OPENAI_API_KEY\"))"
   ]
  },
  {
   "cell_type": "code",
   "execution_count": 9,
   "metadata": {},
   "outputs": [
    {
     "name": "stdout",
     "output_type": "stream",
     "text": [
      "LangChain version: 0.3.26\n"
     ]
    }
   ],
   "source": [
    "import langchain\n",
    "print(\"LangChain version:\", langchain.__version__)"
   ]
  },
  {
   "cell_type": "code",
   "execution_count": null,
   "metadata": {
    "collapsed": true,
    "jupyter": {
     "outputs_hidden": true
    },
    "tags": []
   },
   "outputs": [
    {
     "name": "stdout",
     "output_type": "stream",
     "text": [
      "Defaulting to user installation because normal site-packages is not writeable\n",
      "Requirement already satisfied: langchain-community in ./.local/lib/python3.10/site-packages (0.3.26)\n",
      "Requirement already satisfied: langchain-core<1.0.0,>=0.3.66 in ./.local/lib/python3.10/site-packages (from langchain-community) (0.3.66)\n",
      "Requirement already satisfied: langchain<1.0.0,>=0.3.26 in ./.local/lib/python3.10/site-packages (from langchain-community) (0.3.26)\n",
      "Requirement already satisfied: SQLAlchemy<3,>=1.4 in /usr/local/lib/python3.10/site-packages (from langchain-community) (1.4.20)\n",
      "Requirement already satisfied: requests<3,>=2 in /usr/local/lib/python3.10/site-packages (from langchain-community) (2.31.0)\n",
      "Requirement already satisfied: PyYAML>=5.3 in /usr/local/lib/python3.10/site-packages (from langchain-community) (6.0.1)\n",
      "Requirement already satisfied: aiohttp<4.0.0,>=3.8.3 in /usr/local/lib/python3.10/site-packages (from langchain-community) (3.9.1)\n",
      "Requirement already satisfied: tenacity!=8.4.0,<10,>=8.1.0 in /usr/local/lib/python3.10/site-packages (from langchain-community) (8.2.3)\n",
      "Requirement already satisfied: dataclasses-json<0.7,>=0.5.7 in /usr/local/lib/python3.10/site-packages (from langchain-community) (0.5.13)\n",
      "Requirement already satisfied: pydantic-settings<3.0.0,>=2.4.0 in ./.local/lib/python3.10/site-packages (from langchain-community) (2.10.1)\n",
      "Requirement already satisfied: langsmith>=0.1.125 in ./.local/lib/python3.10/site-packages (from langchain-community) (0.4.2)\n",
      "Requirement already satisfied: httpx-sse<1.0.0,>=0.4.0 in ./.local/lib/python3.10/site-packages (from langchain-community) (0.4.1)\n",
      "Requirement already satisfied: numpy>=1.26.2 in /usr/local/lib/python3.10/site-packages (from langchain-community) (1.26.2)\n",
      "Requirement already satisfied: attrs>=17.3.0 in /usr/local/lib/python3.10/site-packages (from aiohttp<4.0.0,>=3.8.3->langchain-community) (23.1.0)\n",
      "Requirement already satisfied: multidict<7.0,>=4.5 in /usr/local/lib/python3.10/site-packages (from aiohttp<4.0.0,>=3.8.3->langchain-community) (6.0.4)\n",
      "Requirement already satisfied: yarl<2.0,>=1.0 in /usr/local/lib/python3.10/site-packages (from aiohttp<4.0.0,>=3.8.3->langchain-community) (1.9.3)\n",
      "Requirement already satisfied: frozenlist>=1.1.1 in /usr/local/lib/python3.10/site-packages (from aiohttp<4.0.0,>=3.8.3->langchain-community) (1.4.0)\n",
      "Requirement already satisfied: aiosignal>=1.1.2 in /usr/local/lib/python3.10/site-packages (from aiohttp<4.0.0,>=3.8.3->langchain-community) (1.3.1)\n",
      "Requirement already satisfied: async-timeout<5.0,>=4.0 in /usr/local/lib/python3.10/site-packages (from aiohttp<4.0.0,>=3.8.3->langchain-community) (4.0.3)\n",
      "Requirement already satisfied: marshmallow<4.0.0,>=3.18.0 in /usr/local/lib/python3.10/site-packages (from dataclasses-json<0.7,>=0.5.7->langchain-community) (3.20.1)\n",
      "Requirement already satisfied: typing-inspect<1,>=0.4.0 in /usr/local/lib/python3.10/site-packages (from dataclasses-json<0.7,>=0.5.7->langchain-community) (0.9.0)\n",
      "Requirement already satisfied: langchain-text-splitters<1.0.0,>=0.3.8 in ./.local/lib/python3.10/site-packages (from langchain<1.0.0,>=0.3.26->langchain-community) (0.3.8)\n",
      "Requirement already satisfied: pydantic<3.0.0,>=2.7.4 in ./.local/lib/python3.10/site-packages (from langchain<1.0.0,>=0.3.26->langchain-community) (2.11.7)\n",
      "Requirement already satisfied: jsonpatch<2.0,>=1.33 in /usr/local/lib/python3.10/site-packages (from langchain-core<1.0.0,>=0.3.66->langchain-community) (1.33)\n",
      "Requirement already satisfied: packaging<25,>=23.2 in /usr/local/lib/python3.10/site-packages (from langchain-core<1.0.0,>=0.3.66->langchain-community) (23.2)\n",
      "Requirement already satisfied: typing-extensions>=4.7 in ./.local/lib/python3.10/site-packages (from langchain-core<1.0.0,>=0.3.66->langchain-community) (4.14.0)\n",
      "Requirement already satisfied: httpx<1,>=0.23.0 in /usr/local/lib/python3.10/site-packages (from langsmith>=0.1.125->langchain-community) (0.25.2)\n",
      "Requirement already satisfied: orjson<4.0.0,>=3.9.14 in ./.local/lib/python3.10/site-packages (from langsmith>=0.1.125->langchain-community) (3.10.18)\n",
      "Requirement already satisfied: requests-toolbelt<2.0.0,>=1.0.0 in ./.local/lib/python3.10/site-packages (from langsmith>=0.1.125->langchain-community) (1.0.0)\n",
      "Requirement already satisfied: zstandard<0.24.0,>=0.23.0 in ./.local/lib/python3.10/site-packages (from langsmith>=0.1.125->langchain-community) (0.23.0)\n",
      "Requirement already satisfied: python-dotenv>=0.21.0 in /usr/local/lib/python3.10/site-packages (from pydantic-settings<3.0.0,>=2.4.0->langchain-community) (1.0.0)\n",
      "Requirement already satisfied: typing-inspection>=0.4.0 in ./.local/lib/python3.10/site-packages (from pydantic-settings<3.0.0,>=2.4.0->langchain-community) (0.4.1)\n",
      "Requirement already satisfied: charset-normalizer<4,>=2 in /usr/local/lib/python3.10/site-packages (from requests<3,>=2->langchain-community) (3.3.2)\n",
      "Requirement already satisfied: idna<4,>=2.5 in /usr/local/lib/python3.10/site-packages (from requests<3,>=2->langchain-community) (3.6)\n",
      "Requirement already satisfied: urllib3<3,>=1.21.1 in /usr/local/lib/python3.10/site-packages (from requests<3,>=2->langchain-community) (1.26.18)\n",
      "Requirement already satisfied: certifi>=2017.4.17 in /usr/local/lib/python3.10/site-packages (from requests<3,>=2->langchain-community) (2023.11.17)\n",
      "Requirement already satisfied: greenlet!=0.4.17 in /usr/local/lib/python3.10/site-packages (from SQLAlchemy<3,>=1.4->langchain-community) (1.1.2)\n",
      "Requirement already satisfied: anyio in /usr/local/lib/python3.10/site-packages (from httpx<1,>=0.23.0->langsmith>=0.1.125->langchain-community) (3.7.1)\n",
      "Requirement already satisfied: httpcore==1.* in /usr/local/lib/python3.10/site-packages (from httpx<1,>=0.23.0->langsmith>=0.1.125->langchain-community) (1.0.2)\n",
      "Requirement already satisfied: sniffio in /usr/local/lib/python3.10/site-packages (from httpx<1,>=0.23.0->langsmith>=0.1.125->langchain-community) (1.3.0)\n",
      "Requirement already satisfied: h11<0.15,>=0.13 in /usr/local/lib/python3.10/site-packages (from httpcore==1.*->httpx<1,>=0.23.0->langsmith>=0.1.125->langchain-community) (0.14.0)\n",
      "Requirement already satisfied: jsonpointer>=1.9 in /usr/local/lib/python3.10/site-packages (from jsonpatch<2.0,>=1.33->langchain-core<1.0.0,>=0.3.66->langchain-community) (2.3)\n",
      "Requirement already satisfied: annotated-types>=0.6.0 in /usr/local/lib/python3.10/site-packages (from pydantic<3.0.0,>=2.7.4->langchain<1.0.0,>=0.3.26->langchain-community) (0.6.0)\n",
      "Requirement already satisfied: pydantic-core==2.33.2 in ./.local/lib/python3.10/site-packages (from pydantic<3.0.0,>=2.7.4->langchain<1.0.0,>=0.3.26->langchain-community) (2.33.2)\n",
      "Requirement already satisfied: mypy-extensions>=0.3.0 in /usr/local/lib/python3.10/site-packages (from typing-inspect<1,>=0.4.0->dataclasses-json<0.7,>=0.5.7->langchain-community) (0.4.3)\n",
      "Requirement already satisfied: exceptiongroup in /usr/local/lib/python3.10/site-packages (from anyio->httpx<1,>=0.23.0->langsmith>=0.1.125->langchain-community) (1.2.0)\n",
      "Note: you may need to restart the kernel to use updated packages.\n"
     ]
    }
   ],
   "source": [
    "pip install -U langchain-community"
   ]
  },
  {
   "cell_type": "code",
   "execution_count": 8,
   "metadata": {
    "jupyter": {
     "source_hidden": true
    },
    "tags": []
   },
   "outputs": [
    {
     "name": "stdout",
     "output_type": "stream",
     "text": [
      "Hello! How can I assist you today?\n"
     ]
    }
   ],
   "source": [
    "import os\n",
    "import openai\n",
    "\n",
    "def get_completion(prompt, model=\"gpt-3.5-turbo\"):\n",
    "    messages = [{\"role\": \"user\", \"content\": prompt}]\n",
    "    response = openai.ChatCompletion.create(\n",
    "        model=model,\n",
    "        messages=messages,\n",
    "        temperature=0,\n",
    "    )\n",
    "    return response.choices[0].message[\"content\"]\n",
    "# Test call\n",
    "print(get_completion(\"Your query\"))"
   ]
  },
  {
   "cell_type": "code",
   "execution_count": 5,
   "metadata": {
    "tags": []
   },
   "outputs": [
    {
     "name": "stdout",
     "output_type": "stream",
     "text": [
      "AI stands for artificial intelligence, which refers to the simulation of human intelligence processes by machines, especially computer systems. AI technologies enable machines to learn from experience, adapt to new inputs, and perform tasks that typically require human intelligence, such as visual perception, speech recognition, decision-making, and language translation. AI is a rapidly evolving field with applications in various industries, including healthcare, finance, transportation, and entertainment.\n"
     ]
    }
   ],
   "source": [
    "print(get_completion(\"Hello, what is AI?\"))"
   ]
  },
  {
   "cell_type": "code",
   "execution_count": 1,
   "metadata": {
    "tags": []
   },
   "outputs": [
    {
     "name": "stdout",
     "output_type": "stream",
     "text": [
      "✅ Created 9 properly split chunks.\n",
      "\n",
      "🧩 Chunk 1: INTRODUCTION\n",
      "----------------------------------------\n",
      "INTRODUCTION At Nestlé, we recognize that our employees are the key to our success and nothing can be achieved without their engagement. This document encompasses the guidelines which constitute a solid basis for effective Human Resources Management throughout the Nestlé Group around the world. It explains to all Nestlé employees the vision and mission of the Human Resources function and illustrates every aspect of the Nestlé employee lifecycle. The Nestlé Management and Leadership Principles inspire all the Nestlé employees in their actions and in their dealings with others. The Corporate Business Principles refer to all the basic principles which Nestlé endorses and subscribes to on a worldwide basis. Both these documents are the pillars on which the present policy has been built. The implementation of this policy will be inspired by sound judgement, compliance with local market laws and common sense, taking into account the specific context. Its spirit should be respected under all circumstances and could be summarised in one sentence: At Nestlé we put people at the centre of everything we do.\n",
      "\n",
      "🧩 Chunk 2: A SHARED RESPONSIBILITY\n",
      "----------------------------------------\n",
      "A SHARED RESPONSIBILITY Line managers have the prime responsibility for building and sustaining an environment where people have a sense of personal commitment to their work and give their best to ensure our Company’s success. They care for and develop the leaders of tomorrow. Line managers decide on all people matters under their influence, within the boundaries set by the policies and principles, acting as the final decision makers. The Human Resources (HR) structure enables and empowers them in establishing business needs and their corresponding people requirements. Therefore, the mission of HR managers and their teams is to provide professional guidance to line managers aiming to deliver superior business results by optimising the performance of our people, while ensuring exemplary working conditions. With a ‘Nestlé in the Market’ (NiM) approach, HR has adopted a streamlined approach to ensuring functional leadership and the highest level of focus, clarity, and efficiency. Our structure is based on three dedicated areas which provide specialized services (Centres of Expertise), deploy HR strategies within a specific business (Business Partners) and perform transactional activities (Employee Services).\n",
      "\n",
      "🧩 Chunk 3: JOINING NESTLÉ\n",
      "----------------------------------------\n",
      "JOINING NESTLÉ The long-term success of the Company depends on its capacity to attract, retain and develop employees able to ensure ongoing and sustainable growth. This is a primary responsibility of all managers. The Nestlé policy is to hire employees with personal attitudes and professional skills enabling them to develop a long-term relationship with the Company. Therefore, special attention will be paid to ensure there is a strong alignment between a candidate’s values and the Nestlé culture. Only relevant skills and experience and adherence to the Nestlé principles will be considered in employing a person. No consideration will be given to a candidate’s origin, nationality, religion, race, gender, disability, sexual orientation or age. Whilst adequate recruitment tools may improve the hiring process, the decision to hire a candidate remains in the hands of the responsible manager, supported by the HR team.\n",
      "\n",
      "🧩 Chunk 4: EMPLOYMENT AND WORKING CONDITIONS\n",
      "----------------------------------------\n",
      "EMPLOYMENT AND WORKING CONDITIONS We are committed to providing our employees all over the world with good working conditions, a safe and healthy work environment, and flexible employment possibilities that support a better balance of private and professional life consistent with our ambition as a leading Nutrition, Health and Wellness Company. As such, we provide flexible working conditions whenever possible and encourage our employees to have outside interests especially community involvement. Those with line management responsibilities are required to take personal ownership of safety and health within their area of responsibility and are encouraged to develop their capability in this area. Nestlé’s commitment however goes beyond its own employees. We care about all people working inside or outside our premises under contractual obligations with service providers and we insist that they also take steps so that adequate working conditions are made available to them. We believe that it is essential to build a relationship based on trust and respect of employees at all levels. We do not tolerate any form of harassment or discrimination. Therefore, managers are committed to build and sustain, with their teams, an environment of mutual trust. HR ensures that a respectful dialogue is present and the voice of the employees is heard. Corporate policy: Policy on Conditions of Work and Employment\n",
      "\n",
      "🧩 Chunk 5: TOTAL REWARDS\n",
      "----------------------------------------\n",
      "TOTAL REWARDS Attracting new hires and keeping current employees engaged is not only about remuneration and benefits based on solid performance. It is also about the hard earned value and trust that our name brings to those who work with us; the relationships with our line managers and fellow workers; recognition and experiences enjoyed while working for a diverse global company; and possibilities to learn and grow. These are as a whole, the Total Rewards we receive. Nestlé, therefore, focuses on Fixed Pay, Variable Pay, Benefits, Personal Growth and Development and Work Life Environment as the key elements that define Total Rewards. In the spirit of developing a high performance culture, those elements need to correspond to what is valued by employees in each and every market, and which demonstrate how Nestlé is committed to giving each employee the opportunity to grow, evolve and contribute. Nestlé Total Rewards programmes must be established within the social and legal framework of each country, and with respect to applicable collective agreements. It is the responsibility of each manager to propose the remuneration of their employees within the framework of Company policy. Sufficient time should be spent with each employee to explain her or his specific situation in terms of remuneration and benefits, if needed with the support of HR management, in order to communicate properly, clearly and with sufficient transparency. Corporate policy: Nestlé Total Rewards Policy\n",
      "\n",
      "🧩 Chunk 6: TRAINING AND LEARNING\n",
      "----------------------------------------\n",
      "TRAINING AND LEARNING\n",
      "Learning is part of the Company culture. Employees at all levels are systematically encouraged to consider how they upgrade their knowledge and skills. The Company determines training and development priorities. The responsibility for turning these into actions is shared between employees, line managers and the Human Resources. Experience and on-the-job training are the primary source of learning. Managers are responsible for guiding and coaching employees to succeed in their current positions. Nestlé employees understand the importance of continuous improvement, as well as sharing knowledge and ideas freely with others. Practices such as lateral professional development, extension of responsibilities, and cross functional teams are encouraged to acquire additional skills, enrich job content and widen accountability. Nestlé also offers a comprehensive range of training activities and methodologies to support everyone’s learning and growth. Attending a programme should never be considered as a reward but as a component of on-going development. Additionally, corporate leadership programmes help us develop and retain the best-qualified management. Leaders have the opportunity to attend either international training courses at Rive-Reine, which build integrated business understanding and solidify and reinforce Nestlé values and principles, or programmes conducted by our strategic learning partners.\n",
      "\n",
      "🧩 Chunk 7: TALENT, DEVELOPMENT AND PERFORMANCE MANAGEMENT\n",
      "----------------------------------------\n",
      "TALENT, DEVELOPMENT AND PERFORMANCE MANAGEMENT At Nestlé, a high performance culture supported by differentiated rewards and development is key to the delivery of individual and business objectives. This is driven by the alignment of clear and challenging responsibilities and ensuring that employees are aware of how their work impacts Nestlé. The line manager and employee work together to ensure that challenging objectives are set and effectively evaluated throughout the year. This further enables managers to acknowledge high performance and reward employees accordingly, while ensuring low performance is properly managed with integrity. Employees receive regular feedback on their performance and career aspirations through a variety of tools and processes such as the Performance Evaluation process (PE), the Progress and Development Guide (PDG) and 360° assessments. Each manager dedicates the necessary time to the monitoring of objectives and regular coaching of employees through the year. Each employee, supported by the line manager, is in charge of her or his own professional development, whereby the employee is encouraged to express career objectives and expectations in an open dialogue. We aim to retain and motivate employees by offering attractive but realistic career moves allowing them to develop their skills in the long-term. Given the importance Nestlé puts on cultural diversity, employees who are interested in international assignments can be given the opportunity to work in different countries. The international dimension of the Group is used as a competitive advantage to retain and develop talented people. At Nestlé, promotions are based on sustained performance from a results and behaviour standpoint, as well as future potential. The Company undertakes an active and rigorous succession planning process at all levels of the organisation to ensure that there is a strong pipeline of successors ready to meet future needs. We are committed to ensuring sustainable conditions for a gender balanced and diverse company. As such, Nestlé has focused on removing barriers to career progression for women and men by developing a more flexible work environment, initiating mentoring schemes, having flexible career paths and providing dual career support. HR management provides the support for implementing the necessary tools, and partners with line managers to prepare the resources necessary for the continued development of people and the Company. Corporate policy: Expatriation Policy\n",
      "\n",
      "🧩 Chunk 8: EMPLOYEE RELATIONS\n",
      "----------------------------------------\n",
      "EMPLOYEE RELATIONS Since its founding, Nestlé has built a culture based on values of trust, mutual respect and dialogue. Nestlé management and employees all over the world work daily to create and maintain positive individual and collective relationships, and are expected to do so as a core part of their job. Nestlé not only upholds the freedom of association of its employees and the effective recognition of the right to collective bargaining, but also ensures that direct and frequent communication is established in the workplace. While dialogue with trade unions is essential, it does not replace the close relationship that our management maintains with all employees. In the spirit of continuous improvement, we encourage two-way dialogue with our employees that goes beyond the traditional aspects of collective bargaining in order to share knowledge and to jointly find opportunities related to important matters such as Creating Shared Value, the health and safety in the workplace and our concern for the environment. The Company and employee representatives are expected to make all necessary efforts to develop fair and constructive dialogues, overcome the difficulties that they might encounter, reach sustainable agreements and implement them. Corporate policy: The Nestlé Employee Relations Policy\n",
      "\n",
      "🧩 Chunk 9: A FLEXIBLE AND DYNAMIC ORGANISATION\n",
      "----------------------------------------\n",
      "A FLEXIBLE AND DYNAMIC ORGANISATION The Human Resources management described in this document requires and supports an organisation “on the move”. Nestlé is committed to continue the journey to establishing flat and flexible structures with minimal levels of management and broad spans of control, which enable people development, increase efficiency, and ease implementation of our “Nestlé Management and Leadership Principles”. Less hierarchical layers call for increased cooperation between colleagues. This is what will make the organisation more flexible and more accountable. Indeed, it supports today’s and tomorrow’s business requirements for an agile and innovative company working with ever competitive intensity. These simple beliefs have inspired us to create an environment that puts the emphasis not just on individual responsibility and autonomy, but also on a strong willingness to support others, to work in multi-skilled teams, and to cooperate rather than to compete internally. A dynamic organisation creates a climate of innovation and allows people to think from different perspectives. At Nestlé we encourage our people to take risks. Mistakes may be made but there is always a willingness to correct and learn from them. We combine the scope and brand strength of a global company with the creativity and knowledge of a local business. As a result, people can have far-reaching influence every day and explore their full long-term potential, propelled by continual support and a collaborative approach by line managers and employees. Corporate policy: Nestlé on the Move\n"
     ]
    }
   ],
   "source": [
    "# ✅ Step 3: Load and Split PDF Document\n",
    "from langchain_community.document_loaders import PyPDFLoader\n",
    "from langchain_core.documents import Document\n",
    "import re\n",
    "\n",
    "# Load and clean text\n",
    "loader = PyPDFLoader(\"HR_Policy_Nestle.pdf\")\n",
    "docs = loader.load()\n",
    "raw_text = \"\\n\".join(doc.page_content for doc in docs)\n",
    "\n",
    "# Fix line breaks and spacing\n",
    "clean_text = re.sub(r\"(?<![A-Z])\\n(?![A-Z])\", \" \", raw_text)\n",
    "clean_text = re.sub(r\"\\s{2,}\", \" \", clean_text).strip()\n",
    "\n",
    "# Updated section titles\n",
    "section_titles = [\n",
    "    \"INTRODUCTION\",\n",
    "    \"A SHARED RESPONSIBILITY\",\n",
    "    \"JOINING NESTLÉ\",\n",
    "    \"EMPLOYMENT AND WORKING CONDITIONS\",\n",
    "    \"TOTAL REWARDS\",\n",
    "    \"TRAINING AND LEARNING\",\n",
    "    \"TALENT, DEVELOPMENT AND PERFORMANCE MANAGEMENT\",\n",
    "    \"EMPLOYEE RELATIONS\",\n",
    "    \"A FLEXIBLE AND DYNAMIC ORGANISATION\"\n",
    "]\n",
    "\n",
    "# Split when one of the section titles appears (even inline)\n",
    "split_pattern = r\"(?=\" + \"|\".join(re.escape(t) for t in section_titles) + r\")\"\n",
    "parts = re.split(split_pattern, clean_text)\n",
    "\n",
    "# Group into Document chunks (skip empty)\n",
    "final_chunks = []\n",
    "for i, part in enumerate(parts):\n",
    "    part = part.strip()\n",
    "    if any(part.startswith(title) for title in section_titles):\n",
    "        title = next(t for t in section_titles if part.startswith(t))\n",
    "        final_chunks.append(Document(page_content=part, metadata={\"section_title\": title}))\n",
    "\n",
    "# Output\n",
    "print(f\"✅ Created {len(final_chunks)} properly split chunks.\")\n",
    "for i, chunk in enumerate(final_chunks[:9]):\n",
    "    print(f\"\\n🧩 Chunk {i+1}: {chunk.metadata['section_title']}\\n{'-'*40}\")\n",
    "    print(chunk.page_content[:3000])\n"
   ]
  },
  {
   "cell_type": "code",
   "execution_count": 12,
   "metadata": {},
   "outputs": [
    {
     "name": "stdout",
     "output_type": "stream",
     "text": [
      "Defaulting to user installation because normal site-packages is not writeable\n",
      "Requirement already satisfied: pysqlite3-binary in ./.local/lib/python3.10/site-packages (0.5.4)\n"
     ]
    }
   ],
   "source": [
    "!pip install pysqlite3-binary"
   ]
  },
  {
   "cell_type": "code",
   "execution_count": 2,
   "metadata": {},
   "outputs": [],
   "source": [
    "import sys\n",
    "import pysqlite3\n",
    "sys.modules[\"sqlite3\"] = pysqlite3\n",
    "from langchain_community.vectorstores import Chroma"
   ]
  },
  {
   "cell_type": "code",
   "execution_count": 14,
   "metadata": {
    "collapsed": true,
    "jupyter": {
     "outputs_hidden": true
    },
    "tags": []
   },
   "outputs": [
    {
     "name": "stdout",
     "output_type": "stream",
     "text": [
      "Defaulting to user installation because normal site-packages is not writeable\n",
      "Requirement already satisfied: chromadb==0.4.22 in ./.local/lib/python3.10/site-packages (0.4.22)\n",
      "Requirement already satisfied: build>=1.0.3 in ./.local/lib/python3.10/site-packages (from chromadb==0.4.22) (1.2.2.post1)\n",
      "Requirement already satisfied: requests>=2.28 in /usr/local/lib/python3.10/site-packages (from chromadb==0.4.22) (2.31.0)\n",
      "Requirement already satisfied: pydantic>=1.9 in ./.local/lib/python3.10/site-packages (from chromadb==0.4.22) (2.11.7)\n",
      "Requirement already satisfied: chroma-hnswlib==0.7.3 in /usr/local/lib/python3.10/site-packages (from chromadb==0.4.22) (0.7.3)\n",
      "Requirement already satisfied: fastapi>=0.95.2 in /usr/local/lib/python3.10/site-packages (from chromadb==0.4.22) (0.104.1)\n",
      "Requirement already satisfied: uvicorn>=0.18.3 in /usr/local/lib/python3.10/site-packages (from uvicorn[standard]>=0.18.3->chromadb==0.4.22) (0.24.0.post1)\n",
      "Requirement already satisfied: numpy>=1.22.5 in /usr/local/lib/python3.10/site-packages (from chromadb==0.4.22) (1.26.2)\n",
      "Requirement already satisfied: posthog>=2.4.0 in /usr/local/lib/python3.10/site-packages (from chromadb==0.4.22) (3.0.2)\n",
      "Requirement already satisfied: typing-extensions>=4.5.0 in ./.local/lib/python3.10/site-packages (from chromadb==0.4.22) (4.14.0)\n",
      "Requirement already satisfied: pulsar-client>=3.1.0 in /usr/local/lib/python3.10/site-packages (from chromadb==0.4.22) (3.3.0)\n",
      "Requirement already satisfied: onnxruntime>=1.14.1 in /usr/local/lib/python3.10/site-packages (from chromadb==0.4.22) (1.16.3)\n",
      "Requirement already satisfied: opentelemetry-api>=1.2.0 in /usr/local/lib/python3.10/site-packages (from chromadb==0.4.22) (1.21.0)\n",
      "Requirement already satisfied: opentelemetry-exporter-otlp-proto-grpc>=1.2.0 in /usr/local/lib/python3.10/site-packages (from chromadb==0.4.22) (1.21.0)\n",
      "Requirement already satisfied: opentelemetry-instrumentation-fastapi>=0.41b0 in /usr/local/lib/python3.10/site-packages (from chromadb==0.4.22) (0.42b0)\n",
      "Requirement already satisfied: opentelemetry-sdk>=1.2.0 in /usr/local/lib/python3.10/site-packages (from chromadb==0.4.22) (1.21.0)\n",
      "Requirement already satisfied: tokenizers>=0.13.2 in /usr/local/lib/python3.10/site-packages (from chromadb==0.4.22) (0.15.0)\n",
      "Requirement already satisfied: pypika>=0.48.9 in /usr/local/lib/python3.10/site-packages (from chromadb==0.4.22) (0.48.9)\n",
      "Requirement already satisfied: tqdm>=4.65.0 in /usr/local/lib/python3.10/site-packages (from chromadb==0.4.22) (4.66.1)\n",
      "Requirement already satisfied: overrides>=7.3.1 in /usr/local/lib/python3.10/site-packages (from chromadb==0.4.22) (7.3.1)\n",
      "Requirement already satisfied: importlib-resources in /usr/local/lib/python3.10/site-packages (from chromadb==0.4.22) (6.1.1)\n",
      "Requirement already satisfied: grpcio>=1.58.0 in /usr/local/lib/python3.10/site-packages (from chromadb==0.4.22) (1.59.3)\n",
      "Requirement already satisfied: bcrypt>=4.0.1 in /usr/local/lib/python3.10/site-packages (from chromadb==0.4.22) (4.1.1)\n",
      "Requirement already satisfied: typer>=0.9.0 in /usr/local/lib/python3.10/site-packages (from chromadb==0.4.22) (0.9.0)\n",
      "Requirement already satisfied: kubernetes>=28.1.0 in /usr/local/lib/python3.10/site-packages (from chromadb==0.4.22) (28.1.0)\n",
      "Requirement already satisfied: tenacity>=8.2.3 in /usr/local/lib/python3.10/site-packages (from chromadb==0.4.22) (8.2.3)\n",
      "Requirement already satisfied: PyYAML>=6.0.0 in /usr/local/lib/python3.10/site-packages (from chromadb==0.4.22) (6.0.1)\n",
      "Requirement already satisfied: mmh3>=4.0.1 in /usr/local/lib/python3.10/site-packages (from chromadb==0.4.22) (4.0.1)\n",
      "Requirement already satisfied: packaging>=19.1 in /usr/local/lib/python3.10/site-packages (from build>=1.0.3->chromadb==0.4.22) (23.2)\n",
      "Requirement already satisfied: pyproject_hooks in ./.local/lib/python3.10/site-packages (from build>=1.0.3->chromadb==0.4.22) (1.2.0)\n",
      "Requirement already satisfied: tomli>=1.1.0 in /usr/local/lib/python3.10/site-packages (from build>=1.0.3->chromadb==0.4.22) (2.0.1)\n",
      "Requirement already satisfied: anyio<4.0.0,>=3.7.1 in /usr/local/lib/python3.10/site-packages (from fastapi>=0.95.2->chromadb==0.4.22) (3.7.1)\n",
      "Requirement already satisfied: starlette<0.28.0,>=0.27.0 in /usr/local/lib/python3.10/site-packages (from fastapi>=0.95.2->chromadb==0.4.22) (0.27.0)\n",
      "Requirement already satisfied: certifi>=14.05.14 in /usr/local/lib/python3.10/site-packages (from kubernetes>=28.1.0->chromadb==0.4.22) (2023.11.17)\n",
      "Requirement already satisfied: six>=1.9.0 in /usr/local/lib/python3.10/site-packages (from kubernetes>=28.1.0->chromadb==0.4.22) (1.16.0)\n",
      "Requirement already satisfied: python-dateutil>=2.5.3 in /usr/local/lib/python3.10/site-packages (from kubernetes>=28.1.0->chromadb==0.4.22) (2.8.2)\n",
      "Requirement already satisfied: google-auth>=1.0.1 in /usr/local/lib/python3.10/site-packages (from kubernetes>=28.1.0->chromadb==0.4.22) (2.23.4)\n",
      "Requirement already satisfied: websocket-client!=0.40.0,!=0.41.*,!=0.42.*,>=0.32.0 in /usr/local/lib/python3.10/site-packages (from kubernetes>=28.1.0->chromadb==0.4.22) (1.3.3)\n",
      "Requirement already satisfied: requests-oauthlib in /usr/local/lib/python3.10/site-packages (from kubernetes>=28.1.0->chromadb==0.4.22) (1.3.1)\n",
      "Requirement already satisfied: oauthlib>=3.2.2 in /usr/local/lib/python3.10/site-packages (from kubernetes>=28.1.0->chromadb==0.4.22) (3.2.2)\n",
      "Requirement already satisfied: urllib3<2.0,>=1.24.2 in /usr/local/lib/python3.10/site-packages (from kubernetes>=28.1.0->chromadb==0.4.22) (1.26.18)\n",
      "Requirement already satisfied: coloredlogs in /usr/local/lib/python3.10/site-packages (from onnxruntime>=1.14.1->chromadb==0.4.22) (15.0.1)\n",
      "Requirement already satisfied: flatbuffers in /usr/local/lib/python3.10/site-packages (from onnxruntime>=1.14.1->chromadb==0.4.22) (23.5.26)\n",
      "Requirement already satisfied: protobuf in /usr/local/lib/python3.10/site-packages (from onnxruntime>=1.14.1->chromadb==0.4.22) (4.25.1)\n",
      "Requirement already satisfied: sympy in /usr/local/lib/python3.10/site-packages (from onnxruntime>=1.14.1->chromadb==0.4.22) (1.12)\n",
      "Requirement already satisfied: deprecated>=1.2.6 in /usr/local/lib/python3.10/site-packages (from opentelemetry-api>=1.2.0->chromadb==0.4.22) (1.2.13)\n",
      "Requirement already satisfied: importlib-metadata<7.0,>=6.0 in /usr/local/lib/python3.10/site-packages (from opentelemetry-api>=1.2.0->chromadb==0.4.22) (6.8.0)\n",
      "Requirement already satisfied: backoff<3.0.0,>=1.10.0 in /usr/local/lib/python3.10/site-packages (from opentelemetry-exporter-otlp-proto-grpc>=1.2.0->chromadb==0.4.22) (2.2.1)\n",
      "Requirement already satisfied: googleapis-common-protos~=1.52 in /usr/local/lib/python3.10/site-packages (from opentelemetry-exporter-otlp-proto-grpc>=1.2.0->chromadb==0.4.22) (1.61.0)\n",
      "Requirement already satisfied: opentelemetry-exporter-otlp-proto-common==1.21.0 in /usr/local/lib/python3.10/site-packages (from opentelemetry-exporter-otlp-proto-grpc>=1.2.0->chromadb==0.4.22) (1.21.0)\n",
      "Requirement already satisfied: opentelemetry-proto==1.21.0 in /usr/local/lib/python3.10/site-packages (from opentelemetry-exporter-otlp-proto-grpc>=1.2.0->chromadb==0.4.22) (1.21.0)\n",
      "Requirement already satisfied: opentelemetry-instrumentation-asgi==0.42b0 in /usr/local/lib/python3.10/site-packages (from opentelemetry-instrumentation-fastapi>=0.41b0->chromadb==0.4.22) (0.42b0)\n",
      "Requirement already satisfied: opentelemetry-instrumentation==0.42b0 in /usr/local/lib/python3.10/site-packages (from opentelemetry-instrumentation-fastapi>=0.41b0->chromadb==0.4.22) (0.42b0)\n",
      "Requirement already satisfied: opentelemetry-semantic-conventions==0.42b0 in /usr/local/lib/python3.10/site-packages (from opentelemetry-instrumentation-fastapi>=0.41b0->chromadb==0.4.22) (0.42b0)\n",
      "Requirement already satisfied: opentelemetry-util-http==0.42b0 in /usr/local/lib/python3.10/site-packages (from opentelemetry-instrumentation-fastapi>=0.41b0->chromadb==0.4.22) (0.42b0)\n",
      "Requirement already satisfied: setuptools>=16.0 in /usr/local/lib/python3.10/site-packages (from opentelemetry-instrumentation==0.42b0->opentelemetry-instrumentation-fastapi>=0.41b0->chromadb==0.4.22) (69.0.2)\n",
      "Requirement already satisfied: wrapt<2.0.0,>=1.0.0 in /usr/local/lib/python3.10/site-packages (from opentelemetry-instrumentation==0.42b0->opentelemetry-instrumentation-fastapi>=0.41b0->chromadb==0.4.22) (1.14.1)\n",
      "Requirement already satisfied: asgiref~=3.0 in /usr/local/lib/python3.10/site-packages (from opentelemetry-instrumentation-asgi==0.42b0->opentelemetry-instrumentation-fastapi>=0.41b0->chromadb==0.4.22) (3.7.2)\n",
      "Requirement already satisfied: monotonic>=1.5 in /usr/local/lib/python3.10/site-packages (from posthog>=2.4.0->chromadb==0.4.22) (1.6)\n",
      "Requirement already satisfied: annotated-types>=0.6.0 in /usr/local/lib/python3.10/site-packages (from pydantic>=1.9->chromadb==0.4.22) (0.6.0)\n",
      "Requirement already satisfied: pydantic-core==2.33.2 in ./.local/lib/python3.10/site-packages (from pydantic>=1.9->chromadb==0.4.22) (2.33.2)\n",
      "Requirement already satisfied: typing-inspection>=0.4.0 in ./.local/lib/python3.10/site-packages (from pydantic>=1.9->chromadb==0.4.22) (0.4.1)\n",
      "Requirement already satisfied: charset-normalizer<4,>=2 in /usr/local/lib/python3.10/site-packages (from requests>=2.28->chromadb==0.4.22) (3.3.2)\n",
      "Requirement already satisfied: idna<4,>=2.5 in /usr/local/lib/python3.10/site-packages (from requests>=2.28->chromadb==0.4.22) (3.6)\n",
      "Requirement already satisfied: huggingface_hub<1.0,>=0.16.4 in /usr/local/lib/python3.10/site-packages (from tokenizers>=0.13.2->chromadb==0.4.22) (0.19.4)\n",
      "Requirement already satisfied: click<9.0.0,>=7.1.1 in /usr/local/lib/python3.10/site-packages (from typer>=0.9.0->chromadb==0.4.22) (8.1.7)\n",
      "Requirement already satisfied: h11>=0.8 in /usr/local/lib/python3.10/site-packages (from uvicorn>=0.18.3->uvicorn[standard]>=0.18.3->chromadb==0.4.22) (0.14.0)\n",
      "Requirement already satisfied: httptools>=0.5.0 in /usr/local/lib/python3.10/site-packages (from uvicorn[standard]>=0.18.3->chromadb==0.4.22) (0.6.1)\n",
      "Requirement already satisfied: python-dotenv>=0.13 in /usr/local/lib/python3.10/site-packages (from uvicorn[standard]>=0.18.3->chromadb==0.4.22) (1.0.0)\n",
      "Requirement already satisfied: uvloop!=0.15.0,!=0.15.1,>=0.14.0 in /usr/local/lib/python3.10/site-packages (from uvicorn[standard]>=0.18.3->chromadb==0.4.22) (0.19.0)\n",
      "Requirement already satisfied: watchfiles>=0.13 in /usr/local/lib/python3.10/site-packages (from uvicorn[standard]>=0.18.3->chromadb==0.4.22) (0.21.0)\n",
      "Requirement already satisfied: websockets>=10.4 in /usr/local/lib/python3.10/site-packages (from uvicorn[standard]>=0.18.3->chromadb==0.4.22) (11.0.3)\n",
      "Requirement already satisfied: sniffio>=1.1 in /usr/local/lib/python3.10/site-packages (from anyio<4.0.0,>=3.7.1->fastapi>=0.95.2->chromadb==0.4.22) (1.3.0)\n",
      "Requirement already satisfied: exceptiongroup in /usr/local/lib/python3.10/site-packages (from anyio<4.0.0,>=3.7.1->fastapi>=0.95.2->chromadb==0.4.22) (1.2.0)\n",
      "Requirement already satisfied: cachetools<6.0,>=2.0.0 in /usr/local/lib/python3.10/site-packages (from google-auth>=1.0.1->kubernetes>=28.1.0->chromadb==0.4.22) (5.3.2)\n",
      "Requirement already satisfied: pyasn1-modules>=0.2.1 in /usr/local/lib/python3.10/site-packages (from google-auth>=1.0.1->kubernetes>=28.1.0->chromadb==0.4.22) (0.3.0)\n",
      "Requirement already satisfied: rsa<5,>=3.1.4 in /usr/local/lib/python3.10/site-packages (from google-auth>=1.0.1->kubernetes>=28.1.0->chromadb==0.4.22) (4.9)\n",
      "Requirement already satisfied: filelock in /usr/local/lib/python3.10/site-packages (from huggingface_hub<1.0,>=0.16.4->tokenizers>=0.13.2->chromadb==0.4.22) (3.13.1)\n",
      "Requirement already satisfied: fsspec>=2023.5.0 in /usr/local/lib/python3.10/site-packages (from huggingface_hub<1.0,>=0.16.4->tokenizers>=0.13.2->chromadb==0.4.22) (2023.10.0)\n",
      "Requirement already satisfied: zipp>=0.5 in /usr/local/lib/python3.10/site-packages (from importlib-metadata<7.0,>=6.0->opentelemetry-api>=1.2.0->chromadb==0.4.22) (3.17.0)\n",
      "Requirement already satisfied: humanfriendly>=9.1 in /usr/local/lib/python3.10/site-packages (from coloredlogs->onnxruntime>=1.14.1->chromadb==0.4.22) (10.0)\n",
      "Requirement already satisfied: mpmath>=0.19 in /usr/local/lib/python3.10/site-packages (from sympy->onnxruntime>=1.14.1->chromadb==0.4.22) (1.3.0)\n",
      "Requirement already satisfied: pyasn1<0.6.0,>=0.4.6 in /usr/local/lib/python3.10/site-packages (from pyasn1-modules>=0.2.1->google-auth>=1.0.1->kubernetes>=28.1.0->chromadb==0.4.22) (0.5.1)\n",
      "Note: you may need to restart the kernel to use updated packages.\n"
     ]
    }
   ],
   "source": [
    "pip install chromadb==0.4.22"
   ]
  },
  {
   "cell_type": "code",
   "execution_count": 15,
   "metadata": {
    "collapsed": true,
    "jupyter": {
     "outputs_hidden": true
    },
    "tags": []
   },
   "outputs": [
    {
     "name": "stdout",
     "output_type": "stream",
     "text": [
      "Defaulting to user installation because normal site-packages is not writeable\n",
      "Requirement already satisfied: langchain-openai in ./.local/lib/python3.10/site-packages (0.3.25)\n",
      "Requirement already satisfied: langchain-core<1.0.0,>=0.3.66 in ./.local/lib/python3.10/site-packages (from langchain-openai) (0.3.66)\n",
      "Requirement already satisfied: openai<2.0.0,>=1.86.0 in ./.local/lib/python3.10/site-packages (from langchain-openai) (1.91.0)\n",
      "Requirement already satisfied: tiktoken<1,>=0.7 in ./.local/lib/python3.10/site-packages (from langchain-openai) (0.9.0)\n",
      "Requirement already satisfied: langsmith>=0.3.45 in ./.local/lib/python3.10/site-packages (from langchain-core<1.0.0,>=0.3.66->langchain-openai) (0.4.2)\n",
      "Requirement already satisfied: tenacity!=8.4.0,<10.0.0,>=8.1.0 in /usr/local/lib/python3.10/site-packages (from langchain-core<1.0.0,>=0.3.66->langchain-openai) (8.2.3)\n",
      "Requirement already satisfied: jsonpatch<2.0,>=1.33 in /usr/local/lib/python3.10/site-packages (from langchain-core<1.0.0,>=0.3.66->langchain-openai) (1.33)\n",
      "Requirement already satisfied: PyYAML>=5.3 in /usr/local/lib/python3.10/site-packages (from langchain-core<1.0.0,>=0.3.66->langchain-openai) (6.0.1)\n",
      "Requirement already satisfied: packaging<25,>=23.2 in /usr/local/lib/python3.10/site-packages (from langchain-core<1.0.0,>=0.3.66->langchain-openai) (23.2)\n",
      "Requirement already satisfied: typing-extensions>=4.7 in ./.local/lib/python3.10/site-packages (from langchain-core<1.0.0,>=0.3.66->langchain-openai) (4.14.0)\n",
      "Requirement already satisfied: pydantic>=2.7.4 in ./.local/lib/python3.10/site-packages (from langchain-core<1.0.0,>=0.3.66->langchain-openai) (2.11.7)\n",
      "Requirement already satisfied: anyio<5,>=3.5.0 in /usr/local/lib/python3.10/site-packages (from openai<2.0.0,>=1.86.0->langchain-openai) (3.7.1)\n",
      "Requirement already satisfied: distro<2,>=1.7.0 in /usr/local/lib/python3.10/site-packages (from openai<2.0.0,>=1.86.0->langchain-openai) (1.7.0)\n",
      "Requirement already satisfied: httpx<1,>=0.23.0 in /usr/local/lib/python3.10/site-packages (from openai<2.0.0,>=1.86.0->langchain-openai) (0.25.2)\n",
      "Requirement already satisfied: jiter<1,>=0.4.0 in ./.local/lib/python3.10/site-packages (from openai<2.0.0,>=1.86.0->langchain-openai) (0.10.0)\n",
      "Requirement already satisfied: sniffio in /usr/local/lib/python3.10/site-packages (from openai<2.0.0,>=1.86.0->langchain-openai) (1.3.0)\n",
      "Requirement already satisfied: tqdm>4 in /usr/local/lib/python3.10/site-packages (from openai<2.0.0,>=1.86.0->langchain-openai) (4.66.1)\n",
      "Requirement already satisfied: regex>=2022.1.18 in /usr/local/lib/python3.10/site-packages (from tiktoken<1,>=0.7->langchain-openai) (2023.10.3)\n",
      "Requirement already satisfied: requests>=2.26.0 in /usr/local/lib/python3.10/site-packages (from tiktoken<1,>=0.7->langchain-openai) (2.31.0)\n",
      "Requirement already satisfied: idna>=2.8 in /usr/local/lib/python3.10/site-packages (from anyio<5,>=3.5.0->openai<2.0.0,>=1.86.0->langchain-openai) (3.6)\n",
      "Requirement already satisfied: exceptiongroup in /usr/local/lib/python3.10/site-packages (from anyio<5,>=3.5.0->openai<2.0.0,>=1.86.0->langchain-openai) (1.2.0)\n",
      "Requirement already satisfied: certifi in /usr/local/lib/python3.10/site-packages (from httpx<1,>=0.23.0->openai<2.0.0,>=1.86.0->langchain-openai) (2023.11.17)\n",
      "Requirement already satisfied: httpcore==1.* in /usr/local/lib/python3.10/site-packages (from httpx<1,>=0.23.0->openai<2.0.0,>=1.86.0->langchain-openai) (1.0.2)\n",
      "Requirement already satisfied: h11<0.15,>=0.13 in /usr/local/lib/python3.10/site-packages (from httpcore==1.*->httpx<1,>=0.23.0->openai<2.0.0,>=1.86.0->langchain-openai) (0.14.0)\n",
      "Requirement already satisfied: jsonpointer>=1.9 in /usr/local/lib/python3.10/site-packages (from jsonpatch<2.0,>=1.33->langchain-core<1.0.0,>=0.3.66->langchain-openai) (2.3)\n",
      "Requirement already satisfied: orjson<4.0.0,>=3.9.14 in ./.local/lib/python3.10/site-packages (from langsmith>=0.3.45->langchain-core<1.0.0,>=0.3.66->langchain-openai) (3.10.18)\n",
      "Requirement already satisfied: requests-toolbelt<2.0.0,>=1.0.0 in ./.local/lib/python3.10/site-packages (from langsmith>=0.3.45->langchain-core<1.0.0,>=0.3.66->langchain-openai) (1.0.0)\n",
      "Requirement already satisfied: zstandard<0.24.0,>=0.23.0 in ./.local/lib/python3.10/site-packages (from langsmith>=0.3.45->langchain-core<1.0.0,>=0.3.66->langchain-openai) (0.23.0)\n",
      "Requirement already satisfied: annotated-types>=0.6.0 in /usr/local/lib/python3.10/site-packages (from pydantic>=2.7.4->langchain-core<1.0.0,>=0.3.66->langchain-openai) (0.6.0)\n",
      "Requirement already satisfied: pydantic-core==2.33.2 in ./.local/lib/python3.10/site-packages (from pydantic>=2.7.4->langchain-core<1.0.0,>=0.3.66->langchain-openai) (2.33.2)\n",
      "Requirement already satisfied: typing-inspection>=0.4.0 in ./.local/lib/python3.10/site-packages (from pydantic>=2.7.4->langchain-core<1.0.0,>=0.3.66->langchain-openai) (0.4.1)\n",
      "Requirement already satisfied: charset-normalizer<4,>=2 in /usr/local/lib/python3.10/site-packages (from requests>=2.26.0->tiktoken<1,>=0.7->langchain-openai) (3.3.2)\n",
      "Requirement already satisfied: urllib3<3,>=1.21.1 in /usr/local/lib/python3.10/site-packages (from requests>=2.26.0->tiktoken<1,>=0.7->langchain-openai) (1.26.18)\n",
      "Note: you may need to restart the kernel to use updated packages.\n"
     ]
    }
   ],
   "source": [
    "pip install -U langchain-openai"
   ]
  },
  {
   "cell_type": "code",
   "execution_count": 3,
   "metadata": {
    "tags": []
   },
   "outputs": [
    {
     "name": "stdout",
     "output_type": "stream",
     "text": [
      "🔍 Retrieved document:\n",
      " TOTAL REWARDS Attracting new hires and keeping current employees engaged is not only about remuneration and benefits based on solid performance. It is also about the hard earned value and trust that our name brings to those who work with us; the relationships with our line managers and fellow workers; recognition and experiences enjoyed while working for a diverse global company; and possibilities to learn and grow. These are as a whole, the Total Rewards we receive. Nestlé, therefore, focuses on Fixed Pay, Variable Pay, Benefits, Personal Growth and Development and Work Life Environment as the key elements that define Total Rewards. In the spirit of developing a high performance culture, those elements need to correspond to what is valued by employees in each and every market, and which demonstrate how Nestlé is committed to giving each employee the opportunity to grow, evolve and contribute. Nestlé Total Rewards programmes must be established within the social and legal framework of each country, and with respect to applicable collective agreements. It is the responsibility of each manager to propose the remuneration of their employees within the framework of Company policy. Sufficient time should be spent with each employee to explain her or his specific situation in terms of remuneration and benefits, if needed with the support of HR management, in order to communicate properly, clearly and with sufficient transparency. Corporate policy: Nestlé Total Rewards Policy\n"
     ]
    }
   ],
   "source": [
    "# ✅ Step 4: Create Vector Store\n",
    "from langchain_openai import OpenAIEmbeddings\n",
    "#from langchain.embeddings import OpenAIEmbeddings\n",
    "from langchain_community.vectorstores import Chroma\n",
    "\n",
    "# ✅ Step 1: Create embedding model\n",
    "embedding_model = OpenAIEmbeddings()\n",
    "\n",
    "# ✅ Step 2: Create Chroma vector store (in memory)\n",
    "vectordb = Chroma.from_documents(\n",
    "    documents=final_chunks,     # the cleaned and split chunks\n",
    "    embedding=embedding_model,\n",
    "    collection_name=\"nestle_hr_policy\",\n",
    "    persist_directory=None      # or use \"./chroma_store\" if you want to persist\n",
    ")\n",
    "\n",
    "# ✅ Step 3: Test retrieval\n",
    "retriever = vectordb.as_retriever()\n",
    "docs = retriever.invoke(\"What is Nestlé's policy on employee benefits and rewards?\")\n",
    "\n",
    "# ✅ Step 4: Preview retrieved answer\n",
    "print(\"🔍 Retrieved document:\\n\", docs[0].page_content[:3000])\n"
   ]
  },
  {
   "cell_type": "code",
   "execution_count": 5,
   "metadata": {
    "tags": []
   },
   "outputs": [
    {
     "name": "stdout",
     "output_type": "stream",
     "text": [
      "💬 Answer:\n",
      " Nestlé offers Total Rewards which include Fixed Pay, Variable Pay, Benefits, Personal Growth and Development, and Work Life Environment as key elements that define the rewards and benefits provided to employees. These programs are established within the social and legal framework of each country and with respect to applicable collective agreements.\n",
      "\n",
      "📚 Source Document:\n",
      " TOTAL REWARDS Attracting new hires and keeping current employees engaged is not only about remuneration and benefits based on solid performance. It is also about the hard earned value and trust that our name brings to those who work with us; the relationships with our line managers and fellow workers; recognition and experiences enjoyed while working for a diverse global company; and possibilities to learn and grow. These are as a whole, the Total Rewards we receive. Nestlé, therefore, focuses on Fixed Pay, Variable Pay, Benefits, Personal Growth and Development and Work Life Environment as the key elements that define Total Rewards. In the spirit of developing a high performance culture, those elements need to correspond to what is valued by employees in each and every market, and which demonstrate how Nestlé is committed to giving each employee the opportunity to grow, evolve and contribute. Nestlé Total Rewards programmes must be established within the social and legal framework of each country, and with respect to applicable collective agreements. It is the responsibility of each manager to propose the remuneration of their employees within the framework of Company policy. Sufficient time should be spent with each employee to explain her or his specific situation in terms of remuneration and benefits, if needed with the support of HR management, in order to communicate properly, clearly and with sufficient transparency. Corporate policy: Nestlé Total Rewards Policy\n"
     ]
    }
   ],
   "source": [
    "# ✅ Step 5: Create Retrieval QA System\n",
    "# ✅ Imports\n",
    "from langchain.prompts import PromptTemplate\n",
    "from langchain.chains import RetrievalQA\n",
    "from langchain_openai import ChatOpenAI\n",
    "\n",
    "# ✅ Step 1: Define the refined prompt template\n",
    "refined_general_prompt = PromptTemplate(\n",
    "    input_variables=[\"context\", \"question\"],\n",
    "    template=\"\"\"\n",
    "You are a professional and helpful HR Assistant for Nestlé. You answer employee questions based only on the official HR policy context provided.\n",
    "\n",
    "🎯 Instructions:\n",
    "- Be accurate, respectful, and clear.\n",
    "- Do not guess or generate content beyond the provided context.\n",
    "- If the answer is not clearly present in the context, respond without false and fake information\n",
    "---\n",
    "📚 HR Policy Context:\n",
    "{context}\n",
    "\n",
    "❓ User Question:\n",
    "{question}\n",
    "\n",
    "💬 Answer:\"\"\"\n",
    ")\n",
    "\n",
    "# ✅ Step 2: Set up the LLM\n",
    "llm = ChatOpenAI(model=\"gpt-3.5-turbo\", temperature=0)\n",
    "\n",
    "# ✅ Step 3: Create Retrieval QA chain with custom prompt\n",
    "qa_chain = RetrievalQA.from_chain_type(\n",
    "    llm=llm,\n",
    "    retriever=retriever,\n",
    "    return_source_documents=True,\n",
    "    chain_type=\"stuff\",\n",
    "    chain_type_kwargs={\"prompt\": refined_general_prompt}\n",
    ")\n",
    "\n",
    "# ✅ Step 4: Test it out\n",
    "query = \"What types of rewards and benefits does Nestlé offer?\"\n",
    "result = qa_chain.invoke(query)\n",
    "\n",
    "# ✅ Step 5: Display the result\n",
    "print(\"💬 Answer:\\n\", result['result'])\n",
    "print(\"\\n📚 Source Document:\\n\", result[\"source_documents\"][0].page_content[:3000])\n"
   ]
  },
  {
   "cell_type": "code",
   "execution_count": 32,
   "metadata": {
    "tags": []
   },
   "outputs": [
    {
     "name": "stdout",
     "output_type": "stream",
     "text": [
      "💬 Answer:\n",
      " The HR policy context provided does not specifically mention the leave policy at Nestlé. For detailed information on the leave policy, I recommend reaching out to your HR department or referring to the official company handbook or policies.\n",
      "\n",
      "📚 Source Document:\n",
      " EMPLOYMENT AND WORKING CONDITIONS We are committed to providing our employees all over the world with good working conditions, a safe and healthy work environment, and flexible employment possibilities that support a better balance of private and professional life consistent with our ambition as a leading Nutrition, Health and Wellness Company. As such, we provide flexible working conditions whenever possible and encourage our employees to have outside interests especially community involvement. Those with line management responsibilities are required to take personal ownership of safety and health within their area of responsibility and are encouraged to develop their capability in this area. Nestlé’s commitment however goes beyond its own employees. We care about all people working inside or outside our premises under contractual obligations with service providers and we insist that they also take steps so that adequate working conditions are made available to them. We believe that it is essential to build a relationship based on trust and respect of employees at all levels. We do not tolerate any form of harassment or discrimination. Therefore, managers are committed to build and sustain, with their teams, an environment of mutual trust. HR ensures that a respectful dialogue is present and the voice of the employees is heard. Corporate policy: Policy on Conditions of Work and Employment\n"
     ]
    }
   ],
   "source": [
    "# ✅ Step 6.1: Test 1 with Sample Query\n",
    "query = \"What is the leave policy at Nestlé?\"\n",
    "response = qa_chain.invoke(query)\n",
    "# Step 4: Output the result\n",
    "print(\"💬 Answer:\\n\", response['result'])\n",
    "\n",
    "# Optional: Show source content\n",
    "print(\"\\n📚 Source Document:\\n\", response[\"source_documents\"][0].page_content[:3000])"
   ]
  },
  {
   "cell_type": "code",
   "execution_count": 11,
   "metadata": {
    "tags": []
   },
   "outputs": [
    {
     "name": "stdout",
     "output_type": "stream",
     "text": [
      "💬 Answer:\n",
      " The recruitment policy at Nestlé focuses on hiring employees with personal attitudes and professional skills that align with the company's values and culture. Only relevant skills, experience, and adherence to Nestlé principles are considered in the hiring process. No consideration is given to a candidate's origin, nationality, religion, race, gender, disability, sexual orientation, or age. The decision to hire a candidate is ultimately made by the responsible manager, supported by the HR team.\n",
      "\n",
      "📚 Source Document:\n",
      " JOINING NESTLÉ The long-term success of the Company depends on its capacity to attract, retain and develop employees able to ensure ongoing and sustainable growth. This is a primary responsibility of all managers. The Nestlé policy is to hire employees with personal attitudes and professional skills enabling them to develop a long-term relationship with the Company. Therefore, special attention will be paid to ensure there is a strong alignment between a candidate’s values and the Nestlé culture. Only relevant skills and experience and adherence to the Nestlé principles will be considered in employing a person. No consideration will be given to a candidate’s origin, nationality, religion, race, gender, disability, sexual orientation or age. Whilst adequate recruitment tools may improve the hiring process, the decision to hire a candidate remains in the hands of the responsible manager, supported by the HR team.\n"
     ]
    }
   ],
   "source": [
    "# ✅ Step 6.2: Test 2 with Sample Query\n",
    "query = \"What is the recruitment policy at Nestlé\"\n",
    "response = qa_chain.invoke(query)\n",
    "# Step 4: Output the result\n",
    "print(\"💬 Answer:\\n\", response['result'])\n",
    "\n",
    "# Optional: Show source content\n",
    "print(\"\\n📚 Source Document:\\n\", response[\"source_documents\"][0].page_content[:3000])"
   ]
  },
  {
   "cell_type": "code",
   "execution_count": 33,
   "metadata": {
    "tags": []
   },
   "outputs": [
    {
     "name": "stdout",
     "output_type": "stream",
     "text": [
      "💬 Answer:\n",
      " Yes, Nestlé may use adequate recruitment tools to improve the hiring process. However, the decision to hire a candidate ultimately remains in the hands of the responsible manager, supported by the HR team.\n",
      "\n",
      "📚 Source Document:\n",
      " JOINING NESTLÉ The long-term success of the Company depends on its capacity to attract, retain and develop employees able to ensure ongoing and sustainable growth. This is a primary responsibility of all managers. The Nestlé policy is to hire employees with personal attitudes and professional skills enabling them to develop a long-term relationship with the Company. Therefore, special attention will be paid to ensure there is a strong alignment between a candidate’s values and the Nestlé culture. Only relevant skills and experience and adherence to the Nestlé principles will be considered in employing a person. No consideration will be given to a candidate’s origin, nationality, religion, race, gender, disability, sexual orientation or age. Whilst adequate recruitment tools may improve the hiring process, the decision to hire a candidate remains in the hands of the responsible manager, supported by the HR team.\n"
     ]
    }
   ],
   "source": [
    "# ✅ Step 6.3: Test 3 with Sample Query\n",
    "query = \"Does Nestlé use recruitment tools?\"\n",
    "response = qa_chain.invoke(query)\n",
    "# Step 4: Output the result\n",
    "print(\"💬 Answer:\\n\", response['result'])\n",
    "\n",
    "# Optional: Show source content\n",
    "print(\"\\n📚 Source Document:\\n\", response[\"source_documents\"][0].page_content[:3000])"
   ]
  },
  {
   "cell_type": "code",
   "execution_count": 37,
   "metadata": {
    "collapsed": true,
    "jupyter": {
     "outputs_hidden": true
    },
    "tags": []
   },
   "outputs": [
    {
     "name": "stdout",
     "output_type": "stream",
     "text": [
      "Defaulting to user installation because normal site-packages is not writeable\n",
      "Requirement already satisfied: gradio in /usr/local/lib/python3.10/site-packages (4.7.1)\n",
      "Collecting gradio\n",
      "  Downloading gradio-5.34.2-py3-none-any.whl.metadata (16 kB)\n",
      "Requirement already satisfied: aiofiles<25.0,>=22.0 in /usr/local/lib/python3.10/site-packages (from gradio) (23.2.1)\n",
      "Requirement already satisfied: anyio<5.0,>=3.0 in /usr/local/lib/python3.10/site-packages (from gradio) (3.7.1)\n",
      "Collecting fastapi<1.0,>=0.115.2 (from gradio)\n",
      "  Downloading fastapi-0.115.13-py3-none-any.whl.metadata (27 kB)\n",
      "Requirement already satisfied: ffmpy in /usr/local/lib/python3.10/site-packages (from gradio) (0.3.1)\n",
      "Collecting gradio-client==1.10.3 (from gradio)\n",
      "  Downloading gradio_client-1.10.3-py3-none-any.whl.metadata (7.1 kB)\n",
      "Collecting groovy~=0.1 (from gradio)\n",
      "  Downloading groovy-0.1.2-py3-none-any.whl.metadata (6.1 kB)\n",
      "Requirement already satisfied: httpx>=0.24.1 in /usr/local/lib/python3.10/site-packages (from gradio) (0.25.2)\n",
      "Collecting huggingface-hub>=0.28.1 (from gradio)\n",
      "  Downloading huggingface_hub-0.33.1-py3-none-any.whl.metadata (14 kB)\n",
      "Requirement already satisfied: jinja2<4.0 in /usr/local/lib/python3.10/site-packages (from gradio) (3.1.2)\n",
      "Requirement already satisfied: markupsafe<4.0,>=2.0 in /usr/local/lib/python3.10/site-packages (from gradio) (2.1.3)\n",
      "Requirement already satisfied: numpy<3.0,>=1.0 in /usr/local/lib/python3.10/site-packages (from gradio) (1.26.2)\n",
      "Requirement already satisfied: orjson~=3.0 in ./.local/lib/python3.10/site-packages (from gradio) (3.10.18)\n",
      "Requirement already satisfied: packaging in /usr/local/lib/python3.10/site-packages (from gradio) (23.2)\n",
      "Requirement already satisfied: pandas<3.0,>=1.0 in /usr/local/lib/python3.10/site-packages (from gradio) (2.1.3)\n",
      "Requirement already satisfied: pillow<12.0,>=8.0 in /usr/local/lib/python3.10/site-packages (from gradio) (10.1.0)\n",
      "Requirement already satisfied: pydantic<2.12,>=2.0 in ./.local/lib/python3.10/site-packages (from gradio) (2.11.7)\n",
      "Requirement already satisfied: pydub in /usr/local/lib/python3.10/site-packages (from gradio) (0.25.1)\n",
      "Collecting python-multipart>=0.0.18 (from gradio)\n",
      "  Downloading python_multipart-0.0.20-py3-none-any.whl.metadata (1.8 kB)\n",
      "Requirement already satisfied: pyyaml<7.0,>=5.0 in /usr/local/lib/python3.10/site-packages (from gradio) (6.0.1)\n",
      "Collecting ruff>=0.9.3 (from gradio)\n",
      "  Downloading ruff-0.12.0-py3-none-manylinux_2_17_x86_64.manylinux2014_x86_64.whl.metadata (25 kB)\n",
      "Collecting safehttpx<0.2.0,>=0.1.6 (from gradio)\n",
      "  Downloading safehttpx-0.1.6-py3-none-any.whl.metadata (4.2 kB)\n",
      "Requirement already satisfied: semantic-version~=2.0 in /usr/local/lib/python3.10/site-packages (from gradio) (2.10.0)\n",
      "Collecting starlette<1.0,>=0.40.0 (from gradio)\n",
      "  Downloading starlette-0.47.1-py3-none-any.whl.metadata (6.2 kB)\n",
      "Requirement already satisfied: tomlkit<0.14.0,>=0.12.0 in /usr/local/lib/python3.10/site-packages (from gradio) (0.12.0)\n",
      "Collecting typer<1.0,>=0.12 (from gradio)\n",
      "  Downloading typer-0.16.0-py3-none-any.whl.metadata (15 kB)\n",
      "Requirement already satisfied: typing-extensions~=4.0 in ./.local/lib/python3.10/site-packages (from gradio) (4.14.0)\n",
      "Requirement already satisfied: uvicorn>=0.14.0 in /usr/local/lib/python3.10/site-packages (from gradio) (0.24.0.post1)\n",
      "Requirement already satisfied: fsspec in /usr/local/lib/python3.10/site-packages (from gradio-client==1.10.3->gradio) (2023.10.0)\n",
      "Requirement already satisfied: websockets<16.0,>=10.0 in /usr/local/lib/python3.10/site-packages (from gradio-client==1.10.3->gradio) (11.0.3)\n",
      "Requirement already satisfied: idna>=2.8 in /usr/local/lib/python3.10/site-packages (from anyio<5.0,>=3.0->gradio) (3.6)\n",
      "Requirement already satisfied: sniffio>=1.1 in /usr/local/lib/python3.10/site-packages (from anyio<5.0,>=3.0->gradio) (1.3.0)\n",
      "Requirement already satisfied: exceptiongroup in /usr/local/lib/python3.10/site-packages (from anyio<5.0,>=3.0->gradio) (1.2.0)\n",
      "Collecting starlette<1.0,>=0.40.0 (from gradio)\n",
      "  Downloading starlette-0.46.2-py3-none-any.whl.metadata (6.2 kB)\n",
      "Requirement already satisfied: certifi in /usr/local/lib/python3.10/site-packages (from httpx>=0.24.1->gradio) (2023.11.17)\n",
      "Requirement already satisfied: httpcore==1.* in /usr/local/lib/python3.10/site-packages (from httpx>=0.24.1->gradio) (1.0.2)\n",
      "Requirement already satisfied: h11<0.15,>=0.13 in /usr/local/lib/python3.10/site-packages (from httpcore==1.*->httpx>=0.24.1->gradio) (0.14.0)\n",
      "Requirement already satisfied: filelock in /usr/local/lib/python3.10/site-packages (from huggingface-hub>=0.28.1->gradio) (3.13.1)\n",
      "Requirement already satisfied: requests in /usr/local/lib/python3.10/site-packages (from huggingface-hub>=0.28.1->gradio) (2.31.0)\n",
      "Requirement already satisfied: tqdm>=4.42.1 in /usr/local/lib/python3.10/site-packages (from huggingface-hub>=0.28.1->gradio) (4.66.1)\n",
      "Collecting hf-xet<2.0.0,>=1.1.2 (from huggingface-hub>=0.28.1->gradio)\n",
      "  Downloading hf_xet-1.1.5-cp37-abi3-manylinux_2_17_x86_64.manylinux2014_x86_64.whl.metadata (879 bytes)\n",
      "Requirement already satisfied: python-dateutil>=2.8.2 in /usr/local/lib/python3.10/site-packages (from pandas<3.0,>=1.0->gradio) (2.8.2)\n",
      "Requirement already satisfied: pytz>=2020.1 in /usr/local/lib/python3.10/site-packages (from pandas<3.0,>=1.0->gradio) (2023.3.post1)\n",
      "Requirement already satisfied: tzdata>=2022.1 in /usr/local/lib/python3.10/site-packages (from pandas<3.0,>=1.0->gradio) (2023.3)\n",
      "Requirement already satisfied: annotated-types>=0.6.0 in /usr/local/lib/python3.10/site-packages (from pydantic<2.12,>=2.0->gradio) (0.6.0)\n",
      "Requirement already satisfied: pydantic-core==2.33.2 in ./.local/lib/python3.10/site-packages (from pydantic<2.12,>=2.0->gradio) (2.33.2)\n",
      "Requirement already satisfied: typing-inspection>=0.4.0 in ./.local/lib/python3.10/site-packages (from pydantic<2.12,>=2.0->gradio) (0.4.1)\n",
      "Requirement already satisfied: click>=8.0.0 in /usr/local/lib/python3.10/site-packages (from typer<1.0,>=0.12->gradio) (8.1.7)\n",
      "Requirement already satisfied: shellingham>=1.3.0 in /usr/local/lib/python3.10/site-packages (from typer<1.0,>=0.12->gradio) (1.5.4)\n",
      "Requirement already satisfied: rich>=10.11.0 in /usr/local/lib/python3.10/site-packages (from typer<1.0,>=0.12->gradio) (13.5.3)\n",
      "Requirement already satisfied: six>=1.5 in /usr/local/lib/python3.10/site-packages (from python-dateutil>=2.8.2->pandas<3.0,>=1.0->gradio) (1.16.0)\n",
      "Requirement already satisfied: markdown-it-py>=2.2.0 in /usr/local/lib/python3.10/site-packages (from rich>=10.11.0->typer<1.0,>=0.12->gradio) (3.0.0)\n",
      "Requirement already satisfied: pygments<3.0.0,>=2.13.0 in /usr/local/lib/python3.10/site-packages (from rich>=10.11.0->typer<1.0,>=0.12->gradio) (2.16.1)\n",
      "Requirement already satisfied: charset-normalizer<4,>=2 in /usr/local/lib/python3.10/site-packages (from requests->huggingface-hub>=0.28.1->gradio) (3.3.2)\n",
      "Requirement already satisfied: urllib3<3,>=1.21.1 in /usr/local/lib/python3.10/site-packages (from requests->huggingface-hub>=0.28.1->gradio) (1.26.18)\n",
      "Requirement already satisfied: mdurl~=0.1 in /usr/local/lib/python3.10/site-packages (from markdown-it-py>=2.2.0->rich>=10.11.0->typer<1.0,>=0.12->gradio) (0.1.1)\n",
      "Downloading gradio-5.34.2-py3-none-any.whl (54.3 MB)\n",
      "\u001b[2K   \u001b[90m━━━━━━━━━━━━━━━━━━━━━━━━━━━━━━━━━━━━━━━━\u001b[0m \u001b[32m54.3/54.3 MB\u001b[0m \u001b[31m33.5 MB/s\u001b[0m eta \u001b[36m0:00:00\u001b[0m:00:01\u001b[0m00:01\u001b[0m\n",
      "\u001b[?25hDownloading gradio_client-1.10.3-py3-none-any.whl (323 kB)\n",
      "\u001b[2K   \u001b[90m━━━━━━━━━━━━━━━━━━━━━━━━━━━━━━━━━━━━━━━━\u001b[0m \u001b[32m323.6/323.6 kB\u001b[0m \u001b[31m5.9 MB/s\u001b[0m eta \u001b[36m0:00:00\u001b[0m:00:01\u001b[0m\n",
      "\u001b[?25hDownloading fastapi-0.115.13-py3-none-any.whl (95 kB)\n",
      "\u001b[2K   \u001b[90m━━━━━━━━━━━━━━━━━━━━━━━━━━━━━━━━━━━━━━━━\u001b[0m \u001b[32m95.3/95.3 kB\u001b[0m \u001b[31m1.7 MB/s\u001b[0m eta \u001b[36m0:00:00\u001b[0meta \u001b[36m0:00:01\u001b[0m\n",
      "\u001b[?25hDownloading groovy-0.1.2-py3-none-any.whl (14 kB)\n",
      "Downloading huggingface_hub-0.33.1-py3-none-any.whl (515 kB)\n",
      "\u001b[2K   \u001b[90m━━━━━━━━━━━━━━━━━━━━━━━━━━━━━━━━━━━━━━━━\u001b[0m \u001b[32m515.4/515.4 kB\u001b[0m \u001b[31m8.5 MB/s\u001b[0m eta \u001b[36m0:00:00\u001b[0m:00:01\u001b[0m\n",
      "\u001b[?25hDownloading python_multipart-0.0.20-py3-none-any.whl (24 kB)\n",
      "Downloading ruff-0.12.0-py3-none-manylinux_2_17_x86_64.manylinux2014_x86_64.whl (11.6 MB)\n",
      "\u001b[2K   \u001b[90m━━━━━━━━━━━━━━━━━━━━━━━━━━━━━━━━━━━━━━━━\u001b[0m \u001b[32m11.6/11.6 MB\u001b[0m \u001b[31m50.6 MB/s\u001b[0m eta \u001b[36m0:00:00\u001b[0m:00:01\u001b[0m00:01\u001b[0m\n",
      "\u001b[?25hDownloading safehttpx-0.1.6-py3-none-any.whl (8.7 kB)\n",
      "Downloading starlette-0.46.2-py3-none-any.whl (72 kB)\n",
      "\u001b[2K   \u001b[90m━━━━━━━━━━━━━━━━━━━━━━━━━━━━━━━━━━━━━━━━\u001b[0m \u001b[32m72.0/72.0 kB\u001b[0m \u001b[31m1.2 MB/s\u001b[0m eta \u001b[36m0:00:00\u001b[0m0:00:01\u001b[0m\n",
      "\u001b[?25hDownloading typer-0.16.0-py3-none-any.whl (46 kB)\n",
      "\u001b[2K   \u001b[90m━━━━━━━━━━━━━━━━━━━━━━━━━━━━━━━━━━━━━━━━\u001b[0m \u001b[32m46.3/46.3 kB\u001b[0m \u001b[31m932.0 kB/s\u001b[0m eta \u001b[36m0:00:00\u001b[0ma \u001b[36m0:00:01\u001b[0m\n",
      "\u001b[?25hDownloading hf_xet-1.1.5-cp37-abi3-manylinux_2_17_x86_64.manylinux2014_x86_64.whl (3.1 MB)\n",
      "\u001b[2K   \u001b[90m━━━━━━━━━━━━━━━━━━━━━━━━━━━━━━━━━━━━━━━━\u001b[0m \u001b[32m3.1/3.1 MB\u001b[0m \u001b[31m32.3 MB/s\u001b[0m eta \u001b[36m0:00:00\u001b[0m:00:01\u001b[0m\n",
      "\u001b[?25hInstalling collected packages: ruff, python-multipart, hf-xet, groovy, starlette, huggingface-hub, typer, safehttpx, gradio-client, fastapi, gradio\n",
      "\u001b[33m  WARNING: The scripts huggingface-cli and tiny-agents are installed in '/voc/work/.local/bin' which is not on PATH.\n",
      "  Consider adding this directory to PATH or, if you prefer to suppress this warning, use --no-warn-script-location.\u001b[0m\u001b[33m\n",
      "\u001b[0m\u001b[33m  WARNING: The script typer is installed in '/voc/work/.local/bin' which is not on PATH.\n",
      "  Consider adding this directory to PATH or, if you prefer to suppress this warning, use --no-warn-script-location.\u001b[0m\u001b[33m\n",
      "\u001b[0m\u001b[33m  WARNING: The script fastapi is installed in '/voc/work/.local/bin' which is not on PATH.\n",
      "  Consider adding this directory to PATH or, if you prefer to suppress this warning, use --no-warn-script-location.\u001b[0m\u001b[33m\n",
      "\u001b[0m\u001b[33m  WARNING: The scripts gradio and upload_theme are installed in '/voc/work/.local/bin' which is not on PATH.\n",
      "  Consider adding this directory to PATH or, if you prefer to suppress this warning, use --no-warn-script-location.\u001b[0m\u001b[33m\n",
      "\u001b[0m\u001b[31mERROR: pip's dependency resolver does not currently take into account all the packages that are installed. This behaviour is the source of the following dependency conflicts.\n",
      "spacy 3.5.1 requires pydantic!=1.8,!=1.8.1,<1.11.0,>=1.7.4, but you have pydantic 2.11.7 which is incompatible.\n",
      "spacy 3.5.1 requires typer<0.8.0,>=0.3.0, but you have typer 0.16.0 which is incompatible.\u001b[0m\u001b[31m\n",
      "\u001b[0mSuccessfully installed fastapi-0.115.13 gradio-5.34.2 gradio-client-1.10.3 groovy-0.1.2 hf-xet-1.1.5 huggingface-hub-0.33.1 python-multipart-0.0.20 ruff-0.12.0 safehttpx-0.1.6 starlette-0.46.2 typer-0.16.0\n",
      "Note: you may need to restart the kernel to use updated packages.\n"
     ]
    }
   ],
   "source": [
    "pip install --upgrade gradio"
   ]
  },
  {
   "cell_type": "code",
   "execution_count": 38,
   "metadata": {},
   "outputs": [
    {
     "name": "stdout",
     "output_type": "stream",
     "text": [
      "Gradio version: 4.7.1\n"
     ]
    }
   ],
   "source": [
    "import gradio as gr\n",
    "print(\"Gradio version:\", gr.__version__)"
   ]
  },
  {
   "cell_type": "code",
   "execution_count": null,
   "metadata": {},
   "outputs": [],
   "source": [
    "import gradio as gr\n",
    "\n",
    "# ✅ QA Bot function for Gradio ChatInterface\n",
    "def qa_bot(messages, history):\n",
    "    try:\n",
    "        # Handle messages as list of dicts or string fallback\n",
    "        if isinstance(messages, str):\n",
    "            query = messages\n",
    "        elif isinstance(messages, list) and isinstance(messages[-1], dict):\n",
    "            query = messages[-1].get(\"content\", \"\")\n",
    "        else:\n",
    "            return \"❌ Sorry, I couldn't understand your question format.\"\n",
    "\n",
    "        if not query.strip():\n",
    "            return \"❗ Please enter a valid question.\"\n",
    "\n",
    "        # Get response from LangChain QA system\n",
    "        result = qa_chain.invoke(query)\n",
    "        answer = result.get(\"result\", \"\").strip()\n",
    "\n",
    "        # Gracefully fallback if nothing found\n",
    "        if not answer:\n",
    "            answer = \"🤖 Sorry, I couldn't find a specific answer based on the provided documents.\"\n",
    "\n",
    "        # Show only the most relevant source\n",
    "        source_chunks = result.get(\"source_documents\", [])\n",
    "        if source_chunks:\n",
    "            sources = f\"\"\"\n",
    "<details>\n",
    "  <summary>📚 Click to view source</summary>\n",
    "  <pre>{source_chunks[0].page_content[:300].strip()}...</pre>\n",
    "</details>\n",
    "\"\"\"\n",
    "        else:\n",
    "            sources = \"\\n\\n📚 *No document source available.*\"\n",
    "\n",
    "        return f\"{answer}\\n\\n{sources}\"\n",
    "\n",
    "    \n",
    "    except Exception as e:\n",
    "        return f\"❌ An error occurred while processing your request:\\n`{str(e)}`\"\n",
    "\n",
    "# ✅ Launch with Gradio ChatInterface\n",
    "chat_ui = gr.ChatInterface(\n",
    "    fn=qa_bot,\n",
    "    title=\"📘 Nestlé HR Assistant\",\n",
    "    description=\"Ask any question based on Nestlé’s HR policy documents. Powered by AI.\",\n",
    "    theme=\"soft\",\n",
    "     type=\"messages\",\n",
    "    chatbot=gr.Chatbot(\n",
    "        type=\"messages\",\n",
    "        label=\"Chatbot\",\n",
    "        show_copy_button=True\n",
    "    ),\n",
    "    examples=[\n",
    "        \"What are the employee benefits at Nestlé?\",\n",
    "        \"Tell me about Nestlé’s training and development programs.\",\n",
    "        \"How does Nestlé support flexible working?\",\n",
    "        \"What is Nestlé's policy on performance evaluation?\",\n",
    "        \"Does Nestlé offer remote work options?\"\n",
    "    ]\n",
    ")\n",
    "\n",
    "chat_ui.launch(share=True)\n"
   ]
  },
  {
   "cell_type": "code",
   "execution_count": null,
   "metadata": {},
   "outputs": [],
   "source": []
  }
 ],
 "metadata": {
  "kernelspec": {
   "display_name": "Python 3 [3.10]",
   "language": "python",
   "name": "python3"
  },
  "language_info": {
   "codemirror_mode": {
    "name": "ipython",
    "version": 3
   },
   "file_extension": ".py",
   "mimetype": "text/x-python",
   "name": "python",
   "nbconvert_exporter": "python",
   "pygments_lexer": "ipython3",
   "version": "3.10.2"
  }
 },
 "nbformat": 4,
 "nbformat_minor": 4
}
